{
 "cells": [
  {
   "cell_type": "code",
   "execution_count": 1,
   "metadata": {},
   "outputs": [],
   "source": [
    "my_list=[1,2,3]"
   ]
  },
  {
   "cell_type": "code",
   "execution_count": 2,
   "metadata": {},
   "outputs": [],
   "source": [
    "import numpy as np"
   ]
  },
  {
   "cell_type": "code",
   "execution_count": 4,
   "metadata": {},
   "outputs": [],
   "source": [
    "arr=np.array(my_list)"
   ]
  },
  {
   "cell_type": "code",
   "execution_count": 5,
   "metadata": {
    "scrolled": true
   },
   "outputs": [
    {
     "data": {
      "text/plain": [
       "array([1, 2, 3])"
      ]
     },
     "execution_count": 5,
     "metadata": {},
     "output_type": "execute_result"
    }
   ],
   "source": [
    "arr"
   ]
  },
  {
   "cell_type": "markdown",
   "metadata": {},
   "source": [
    "## Two dimension array 2x3"
   ]
  },
  {
   "cell_type": "code",
   "execution_count": 7,
   "metadata": {},
   "outputs": [
    {
     "data": {
      "text/plain": [
       "array([[1, 2, 3],\n",
       "       [4, 5, 6],\n",
       "       [7, 8, 9]])"
      ]
     },
     "execution_count": 7,
     "metadata": {},
     "output_type": "execute_result"
    }
   ],
   "source": [
    "my_mat=[[1,2,3],[4,5,6],[7,8,9]]\n",
    "np.array(my_mat)"
   ]
  },
  {
   "cell_type": "markdown",
   "metadata": {},
   "source": [
    "### Range of 10"
   ]
  },
  {
   "cell_type": "code",
   "execution_count": 8,
   "metadata": {},
   "outputs": [
    {
     "data": {
      "text/plain": [
       "array([0, 1, 2, 3, 4, 5, 6, 7, 8, 9])"
      ]
     },
     "execution_count": 8,
     "metadata": {},
     "output_type": "execute_result"
    }
   ],
   "source": [
    "np.arange(0,10)"
   ]
  },
  {
   "cell_type": "code",
   "execution_count": 9,
   "metadata": {},
   "outputs": [
    {
     "data": {
      "text/plain": [
       "array([0, 2, 4, 6, 8])"
      ]
     },
     "execution_count": 9,
     "metadata": {},
     "output_type": "execute_result"
    }
   ],
   "source": [
    "np.arange(0,10,2) "
   ]
  },
  {
   "cell_type": "markdown",
   "metadata": {},
   "source": [
    "### Three row two column matrix"
   ]
  },
  {
   "cell_type": "code",
   "execution_count": 7,
   "metadata": {},
   "outputs": [
    {
     "data": {
      "text/plain": [
       "array([[0., 0.],\n",
       "       [0., 0.],\n",
       "       [0., 0.]])"
      ]
     },
     "execution_count": 7,
     "metadata": {},
     "output_type": "execute_result"
    }
   ],
   "source": [
    "\n",
    "np.zeros((3,2))"
   ]
  },
  {
   "cell_type": "code",
   "execution_count": 13,
   "metadata": {},
   "outputs": [
    {
     "data": {
      "text/plain": [
       "array([1., 1., 1., 1., 1.])"
      ]
     },
     "execution_count": 13,
     "metadata": {},
     "output_type": "execute_result"
    }
   ],
   "source": [
    "np.ones(5)"
   ]
  },
  {
   "cell_type": "code",
   "execution_count": 14,
   "metadata": {},
   "outputs": [
    {
     "data": {
      "text/plain": [
       "array([0.        , 0.05050505, 0.1010101 , 0.15151515, 0.2020202 ,\n",
       "       0.25252525, 0.3030303 , 0.35353535, 0.4040404 , 0.45454545,\n",
       "       0.50505051, 0.55555556, 0.60606061, 0.65656566, 0.70707071,\n",
       "       0.75757576, 0.80808081, 0.85858586, 0.90909091, 0.95959596,\n",
       "       1.01010101, 1.06060606, 1.11111111, 1.16161616, 1.21212121,\n",
       "       1.26262626, 1.31313131, 1.36363636, 1.41414141, 1.46464646,\n",
       "       1.51515152, 1.56565657, 1.61616162, 1.66666667, 1.71717172,\n",
       "       1.76767677, 1.81818182, 1.86868687, 1.91919192, 1.96969697,\n",
       "       2.02020202, 2.07070707, 2.12121212, 2.17171717, 2.22222222,\n",
       "       2.27272727, 2.32323232, 2.37373737, 2.42424242, 2.47474747,\n",
       "       2.52525253, 2.57575758, 2.62626263, 2.67676768, 2.72727273,\n",
       "       2.77777778, 2.82828283, 2.87878788, 2.92929293, 2.97979798,\n",
       "       3.03030303, 3.08080808, 3.13131313, 3.18181818, 3.23232323,\n",
       "       3.28282828, 3.33333333, 3.38383838, 3.43434343, 3.48484848,\n",
       "       3.53535354, 3.58585859, 3.63636364, 3.68686869, 3.73737374,\n",
       "       3.78787879, 3.83838384, 3.88888889, 3.93939394, 3.98989899,\n",
       "       4.04040404, 4.09090909, 4.14141414, 4.19191919, 4.24242424,\n",
       "       4.29292929, 4.34343434, 4.39393939, 4.44444444, 4.49494949,\n",
       "       4.54545455, 4.5959596 , 4.64646465, 4.6969697 , 4.74747475,\n",
       "       4.7979798 , 4.84848485, 4.8989899 , 4.94949495, 5.        ])"
      ]
     },
     "execution_count": 14,
     "metadata": {},
     "output_type": "execute_result"
    }
   ],
   "source": [
    "#linsapce is to points with in the range\n",
    "np.linspace(0,5,100)"
   ]
  },
  {
   "cell_type": "code",
   "execution_count": 15,
   "metadata": {},
   "outputs": [
    {
     "data": {
      "text/plain": [
       "array([[1., 0., 0., 0., 0.],\n",
       "       [0., 1., 0., 0., 0.],\n",
       "       [0., 0., 1., 0., 0.],\n",
       "       [0., 0., 0., 1., 0.],\n",
       "       [0., 0., 0., 0., 1.]])"
      ]
     },
     "execution_count": 15,
     "metadata": {},
     "output_type": "execute_result"
    }
   ],
   "source": [
    "#Identity of the diagnol\n",
    "np.eye(5)"
   ]
  },
  {
   "cell_type": "code",
   "execution_count": 18,
   "metadata": {},
   "outputs": [
    {
     "data": {
      "text/plain": [
       "array([0.94935375, 0.12728882, 0.46104036, 0.46320781])"
      ]
     },
     "execution_count": 18,
     "metadata": {},
     "output_type": "execute_result"
    }
   ],
   "source": [
    "#randon matrix\n",
    "np.random.rand(4)\n"
   ]
  },
  {
   "cell_type": "code",
   "execution_count": 19,
   "metadata": {},
   "outputs": [
    {
     "data": {
      "text/plain": [
       "array([[0.54786762, 0.82713196],\n",
       "       [0.33978329, 0.26756338]])"
      ]
     },
     "execution_count": 19,
     "metadata": {},
     "output_type": "execute_result"
    }
   ],
   "source": [
    "np.random.rand(2,2)"
   ]
  },
  {
   "cell_type": "code",
   "execution_count": 21,
   "metadata": {},
   "outputs": [
    {
     "data": {
      "text/plain": [
       "array([26,  2, 35, 36, 27, 22, 10, 23, 14, 30])"
      ]
     },
     "execution_count": 21,
     "metadata": {},
     "output_type": "execute_result"
    }
   ],
   "source": [
    "#randomly selected from 0 to 49 \n",
    "#but randomly 10 selected integers\n",
    "np.random.randint(0,50,10)"
   ]
  },
  {
   "cell_type": "code",
   "execution_count": 22,
   "metadata": {},
   "outputs": [
    {
     "data": {
      "text/plain": [
       "array([[ 0,  1,  2,  3,  4],\n",
       "       [ 5,  6,  7,  8,  9],\n",
       "       [10, 11, 12, 13, 14],\n",
       "       [15, 16, 17, 18, 19],\n",
       "       [20, 21, 22, 23, 24]])"
      ]
     },
     "execution_count": 22,
     "metadata": {},
     "output_type": "execute_result"
    }
   ],
   "source": [
    "#reshaping array\n",
    "arr=np.arange(0,25)\n",
    "arr.reshape(5,5)"
   ]
  },
  {
   "cell_type": "code",
   "execution_count": 27,
   "metadata": {},
   "outputs": [
    {
     "name": "stdout",
     "output_type": "stream",
     "text": [
      "\n",
      "Random Value for (0,50,10): [26 10 46 16 17  8 27 19 19 11]\n",
      "Maximum Random Value: 46\n",
      "Minimun Random Value: 8 \n",
      "ArgMax Random Value : 2\n",
      "ArgMin Random Value : 5\n"
     ]
    }
   ],
   "source": [
    "ranarr=np.random.randint(0,50,10)\n",
    "MaxRan=ranarr.max()\n",
    "MinRan=ranarr.min()\n",
    "ArgMin=ranarr.argmin()\n",
    "ArgMax=ranarr.argmax()\n",
    "\n",
    "print(\"\"\"\n",
    "Random Value for (0,50,10): %s\n",
    "Maximum Random Value: %s\n",
    "Minimun Random Value: %s \n",
    "ArgMax Random Value : %s\n",
    "ArgMin Random Value : %s\"\"\" %(ranarr,MaxRan,MinRan,ArgMax,ArgMin))"
   ]
  },
  {
   "cell_type": "code",
   "execution_count": 29,
   "metadata": {},
   "outputs": [
    {
     "data": {
      "text/plain": [
       "(25,)"
      ]
     },
     "execution_count": 29,
     "metadata": {},
     "output_type": "execute_result"
    }
   ],
   "source": [
    "#shape of the array\n",
    "arr.shape\n"
   ]
  },
  {
   "cell_type": "code",
   "execution_count": 30,
   "metadata": {},
   "outputs": [
    {
     "data": {
      "text/plain": [
       "dtype('int32')"
      ]
     },
     "execution_count": 30,
     "metadata": {},
     "output_type": "execute_result"
    }
   ],
   "source": [
    "arr.dtype\n"
   ]
  },
  {
   "cell_type": "code",
   "execution_count": 36,
   "metadata": {},
   "outputs": [],
   "source": [
    "##s __NumPy Indexing and Selection__"
   ]
  },
  {
   "cell_type": "code",
   "execution_count": 2,
   "metadata": {},
   "outputs": [],
   "source": [
    "import numpy as np"
   ]
  },
  {
   "cell_type": "code",
   "execution_count": 3,
   "metadata": {},
   "outputs": [],
   "source": [
    "arr=np.arange(0,11)"
   ]
  },
  {
   "cell_type": "code",
   "execution_count": 4,
   "metadata": {},
   "outputs": [
    {
     "data": {
      "text/plain": [
       "array([0, 1, 2, 3, 4])"
      ]
     },
     "execution_count": 4,
     "metadata": {},
     "output_type": "execute_result"
    }
   ],
   "source": [
    "arr[:5]"
   ]
  },
  {
   "cell_type": "code",
   "execution_count": 6,
   "metadata": {},
   "outputs": [
    {
     "data": {
      "text/plain": [
       "3"
      ]
     },
     "execution_count": 6,
     "metadata": {},
     "output_type": "execute_result"
    }
   ],
   "source": [
    "arr[3]"
   ]
  },
  {
   "cell_type": "code",
   "execution_count": 7,
   "metadata": {},
   "outputs": [
    {
     "data": {
      "text/plain": [
       "array([100, 100, 100, 100, 100, 100, 100, 100, 100, 100, 100])"
      ]
     },
     "execution_count": 7,
     "metadata": {},
     "output_type": "execute_result"
    }
   ],
   "source": [
    "#Copying array\n",
    "arr_copy=arr.copy()\n",
    "#broadcast array \n",
    "arr_copy[:]=100\n",
    "arr_copy"
   ]
  },
  {
   "cell_type": "code",
   "execution_count": 8,
   "metadata": {},
   "outputs": [
    {
     "data": {
      "text/plain": [
       "array([ 0,  1,  2,  3,  4,  5,  6,  7,  8,  9, 10])"
      ]
     },
     "execution_count": 8,
     "metadata": {},
     "output_type": "execute_result"
    }
   ],
   "source": [
    "arr"
   ]
  },
  {
   "cell_type": "code",
   "execution_count": 10,
   "metadata": {},
   "outputs": [],
   "source": [
    "arr_copy[:]=100,99,98,97,96,95,94,93,92,91,90\n"
   ]
  },
  {
   "cell_type": "code",
   "execution_count": 11,
   "metadata": {},
   "outputs": [
    {
     "data": {
      "text/plain": [
       "array([100,  99,  98,  97,  96,  95,  94,  93,  92,  91,  90])"
      ]
     },
     "execution_count": 11,
     "metadata": {},
     "output_type": "execute_result"
    }
   ],
   "source": [
    "arr_copy"
   ]
  },
  {
   "cell_type": "code",
   "execution_count": 12,
   "metadata": {},
   "outputs": [],
   "source": [
    "arr_2d=np.array([[5,10,15],[20,25,30],[35,40,45]])"
   ]
  },
  {
   "cell_type": "code",
   "execution_count": 13,
   "metadata": {},
   "outputs": [
    {
     "data": {
      "text/plain": [
       "35"
      ]
     },
     "execution_count": 13,
     "metadata": {},
     "output_type": "execute_result"
    }
   ],
   "source": [
    "arr_2d[-1][0]"
   ]
  },
  {
   "cell_type": "code",
   "execution_count": 14,
   "metadata": {},
   "outputs": [
    {
     "data": {
      "text/plain": [
       "array([[ 5],\n",
       "       [20]])"
      ]
     },
     "execution_count": 14,
     "metadata": {},
     "output_type": "execute_result"
    }
   ],
   "source": [
    "arr_2d[:2,:1]"
   ]
  },
  {
   "cell_type": "code",
   "execution_count": 15,
   "metadata": {},
   "outputs": [
    {
     "data": {
      "text/plain": [
       "array([[ 5, 10, 15],\n",
       "       [20, 25, 30]])"
      ]
     },
     "execution_count": 15,
     "metadata": {},
     "output_type": "execute_result"
    }
   ],
   "source": [
    "arr_2d[:2]"
   ]
  },
  {
   "cell_type": "code",
   "execution_count": 16,
   "metadata": {},
   "outputs": [
    {
     "data": {
      "text/plain": [
       "array([[10, 15],\n",
       "       [25, 30]])"
      ]
     },
     "execution_count": 16,
     "metadata": {},
     "output_type": "execute_result"
    }
   ],
   "source": [
    "arr_2d[:2,1:]"
   ]
  },
  {
   "cell_type": "code",
   "execution_count": 17,
   "metadata": {},
   "outputs": [
    {
     "data": {
      "text/plain": [
       "array([ 6,  7,  8,  9, 10])"
      ]
     },
     "execution_count": 17,
     "metadata": {},
     "output_type": "execute_result"
    }
   ],
   "source": [
    "arr[arr>5]"
   ]
  },
  {
   "cell_type": "code",
   "execution_count": 18,
   "metadata": {},
   "outputs": [
    {
     "data": {
      "text/plain": [
       "array([0, 1, 2])"
      ]
     },
     "execution_count": 18,
     "metadata": {},
     "output_type": "execute_result"
    }
   ],
   "source": [
    "arr[arr<3]"
   ]
  },
  {
   "cell_type": "code",
   "execution_count": 19,
   "metadata": {},
   "outputs": [],
   "source": [
    "arr_2d=np.arange(50).reshape(5,10)"
   ]
  },
  {
   "cell_type": "code",
   "execution_count": 20,
   "metadata": {},
   "outputs": [
    {
     "data": {
      "text/plain": [
       "array([[ 0,  1,  2,  3,  4,  5,  6,  7,  8,  9],\n",
       "       [10, 11, 12, 13, 14, 15, 16, 17, 18, 19],\n",
       "       [20, 21, 22, 23, 24, 25, 26, 27, 28, 29],\n",
       "       [30, 31, 32, 33, 34, 35, 36, 37, 38, 39],\n",
       "       [40, 41, 42, 43, 44, 45, 46, 47, 48, 49]])"
      ]
     },
     "execution_count": 20,
     "metadata": {},
     "output_type": "execute_result"
    }
   ],
   "source": [
    "arr_2d"
   ]
  },
  {
   "cell_type": "code",
   "execution_count": 21,
   "metadata": {},
   "outputs": [
    {
     "data": {
      "text/plain": [
       "array([[10, 11, 12, 13, 14, 15, 16, 17, 18, 19]])"
      ]
     },
     "execution_count": 21,
     "metadata": {},
     "output_type": "execute_result"
    }
   ],
   "source": [
    "arr_2d[1:2]"
   ]
  },
  {
   "cell_type": "code",
   "execution_count": 22,
   "metadata": {},
   "outputs": [
    {
     "data": {
      "text/plain": [
       "array([[12, 13]])"
      ]
     },
     "execution_count": 22,
     "metadata": {},
     "output_type": "execute_result"
    }
   ],
   "source": [
    "arr_2d[1:2,2:4]"
   ]
  },
  {
   "cell_type": "code",
   "execution_count": 23,
   "metadata": {},
   "outputs": [
    {
     "data": {
      "text/plain": [
       "array([ 0,  1,  2,  3,  4,  5,  6,  7,  8,  9, 10])"
      ]
     },
     "execution_count": 23,
     "metadata": {},
     "output_type": "execute_result"
    }
   ],
   "source": [
    "arr"
   ]
  },
  {
   "cell_type": "code",
   "execution_count": 24,
   "metadata": {},
   "outputs": [
    {
     "data": {
      "text/plain": [
       "array([ 0,  2,  4,  6,  8, 10, 12, 14, 16, 18, 20])"
      ]
     },
     "execution_count": 24,
     "metadata": {},
     "output_type": "execute_result"
    }
   ],
   "source": [
    "arr+arr"
   ]
  },
  {
   "cell_type": "code",
   "execution_count": 25,
   "metadata": {},
   "outputs": [
    {
     "name": "stdout",
     "output_type": "stream",
     "text": [
      "\n",
      "Subtraction    : [0 0 0 0 0 0 0 0 0 0 0]\n",
      "Multiplication : [  0   1   4   9  16  25  36  49  64  81 100]\n",
      "\n"
     ]
    }
   ],
   "source": [
    "Sub=arr - arr\n",
    "mult=arr*arr\n",
    "print (\"\"\"\n",
    "Subtraction    : {1}\n",
    "Multiplication : {0}\n",
    "\"\"\" .format(mult,Sub))"
   ]
  },
  {
   "cell_type": "code",
   "execution_count": 26,
   "metadata": {},
   "outputs": [
    {
     "name": "stderr",
     "output_type": "stream",
     "text": [
      "C:\\ProgramData\\Anaconda3\\lib\\site-packages\\ipykernel_launcher.py:2: RuntimeWarning: invalid value encountered in true_divide\n",
      "  \n"
     ]
    },
    {
     "data": {
      "text/plain": [
       "array([nan,  1.,  1.,  1.,  1.,  1.,  1.,  1.,  1.,  1.,  1.])"
      ]
     },
     "execution_count": 26,
     "metadata": {},
     "output_type": "execute_result"
    }
   ],
   "source": [
    "#Numpy dont have zero divison error\n",
    "arr/arr"
   ]
  },
  {
   "cell_type": "code",
   "execution_count": 29,
   "metadata": {},
   "outputs": [
    {
     "name": "stdout",
     "output_type": "stream",
     "text": [
      "\n",
      "numpy maximum    : 10\n",
      "\n",
      "array maximun    : 10\n",
      "\n",
      "numpy Squareroot : [0.         1.         1.41421356 1.73205081 2.         2.23606798\n",
      " 2.44948974 2.64575131 2.82842712 3.         3.16227766]\n",
      "\n",
      "numpy minimum    : 0\n",
      "\n",
      "numpy exponential: [1.00000000e+00 2.71828183e+00 7.38905610e+00 2.00855369e+01\n",
      " 5.45981500e+01 1.48413159e+02 4.03428793e+02 1.09663316e+03\n",
      " 2.98095799e+03 8.10308393e+03 2.20264658e+04]\n",
      "\n",
      "numpy logarithm  : [      -inf 0.         0.69314718 1.09861229 1.38629436 1.60943791\n",
      " 1.79175947 1.94591015 2.07944154 2.19722458 2.30258509] \n"
     ]
    },
    {
     "name": "stderr",
     "output_type": "stream",
     "text": [
      "C:\\ProgramData\\Anaconda3\\lib\\site-packages\\ipykernel_launcher.py:19: RuntimeWarning: divide by zero encountered in log\n"
     ]
    }
   ],
   "source": [
    "#Some useful commands - ufunc - universal function\n",
    "print (\"\"\"\n",
    "numpy maximum    : {0}\n",
    "\n",
    "array maximun    : {3}\n",
    "\n",
    "numpy Squareroot : {1}\n",
    "\n",
    "numpy minimum    : {2}\n",
    "\n",
    "numpy exponential: {4}\n",
    "\n",
    "numpy logarithm  : {5} \"\"\" .format(\n",
    "np.max(arr),\n",
    "np.sqrt(arr),\n",
    "np.min(arr),\n",
    "arr.max(),\n",
    "np.exp(arr),\n",
    "np.log(arr)))"
   ]
  },
  {
   "cell_type": "code",
   "execution_count": 1,
   "metadata": {},
   "outputs": [],
   "source": [
    "import numpy as np"
   ]
  },
  {
   "cell_type": "code",
   "execution_count": 3,
   "metadata": {},
   "outputs": [
    {
     "data": {
      "text/plain": [
       "array([2, 3])"
      ]
     },
     "execution_count": 3,
     "metadata": {},
     "output_type": "execute_result"
    }
   ],
   "source": [
    "np.array((2,3))"
   ]
  },
  {
   "cell_type": "code",
   "execution_count": 5,
   "metadata": {},
   "outputs": [
    {
     "data": {
      "text/plain": [
       "array([[1., 1., 1., 1., 1.],\n",
       "       [1., 1., 1., 1., 1.],\n",
       "       [1., 1., 1., 1., 1.],\n",
       "       [1., 1., 1., 1., 1.],\n",
       "       [1., 1., 1., 1., 1.]])"
      ]
     },
     "execution_count": 5,
     "metadata": {},
     "output_type": "execute_result"
    }
   ],
   "source": [
    "np.ones((5,5))"
   ]
  },
  {
   "cell_type": "code",
   "execution_count": 8,
   "metadata": {},
   "outputs": [],
   "source": [
    "arr=np.linspace(0,10,100)"
   ]
  },
  {
   "cell_type": "code",
   "execution_count": 9,
   "metadata": {},
   "outputs": [
    {
     "data": {
      "text/plain": [
       "array([ 0.        ,  0.1010101 ,  0.2020202 ,  0.3030303 ,  0.4040404 ,\n",
       "        0.50505051,  0.60606061,  0.70707071,  0.80808081,  0.90909091,\n",
       "        1.01010101,  1.11111111,  1.21212121,  1.31313131,  1.41414141,\n",
       "        1.51515152,  1.61616162,  1.71717172,  1.81818182,  1.91919192,\n",
       "        2.02020202,  2.12121212,  2.22222222,  2.32323232,  2.42424242,\n",
       "        2.52525253,  2.62626263,  2.72727273,  2.82828283,  2.92929293,\n",
       "        3.03030303,  3.13131313,  3.23232323,  3.33333333,  3.43434343,\n",
       "        3.53535354,  3.63636364,  3.73737374,  3.83838384,  3.93939394,\n",
       "        4.04040404,  4.14141414,  4.24242424,  4.34343434,  4.44444444,\n",
       "        4.54545455,  4.64646465,  4.74747475,  4.84848485,  4.94949495,\n",
       "        5.05050505,  5.15151515,  5.25252525,  5.35353535,  5.45454545,\n",
       "        5.55555556,  5.65656566,  5.75757576,  5.85858586,  5.95959596,\n",
       "        6.06060606,  6.16161616,  6.26262626,  6.36363636,  6.46464646,\n",
       "        6.56565657,  6.66666667,  6.76767677,  6.86868687,  6.96969697,\n",
       "        7.07070707,  7.17171717,  7.27272727,  7.37373737,  7.47474747,\n",
       "        7.57575758,  7.67676768,  7.77777778,  7.87878788,  7.97979798,\n",
       "        8.08080808,  8.18181818,  8.28282828,  8.38383838,  8.48484848,\n",
       "        8.58585859,  8.68686869,  8.78787879,  8.88888889,  8.98989899,\n",
       "        9.09090909,  9.19191919,  9.29292929,  9.39393939,  9.49494949,\n",
       "        9.5959596 ,  9.6969697 ,  9.7979798 ,  9.8989899 , 10.        ])"
      ]
     },
     "execution_count": 9,
     "metadata": {},
     "output_type": "execute_result"
    }
   ],
   "source": [
    "arr"
   ]
  },
  {
   "cell_type": "code",
   "execution_count": 18,
   "metadata": {},
   "outputs": [
    {
     "data": {
      "text/plain": [
       "array([ 0.        ,  0.1010101 ,  0.2020202 ,  0.3030303 ,  0.4040404 ,\n",
       "        0.50505051,  0.60606061,  0.70707071,  0.80808081,  0.90909091,\n",
       "        1.01010101,  1.11111111,  1.21212121,  1.31313131,  1.41414141,\n",
       "        1.51515152,  1.61616162,  1.71717172,  1.81818182,  1.91919192,\n",
       "        2.02020202,  2.12121212,  2.22222222,  2.32323232,  2.42424242,\n",
       "        2.52525253,  2.62626263,  2.72727273,  2.82828283,  2.92929293,\n",
       "        3.03030303,  3.13131313,  3.23232323,  3.33333333,  3.43434343,\n",
       "        3.53535354,  3.63636364,  3.73737374,  3.83838384,  3.93939394,\n",
       "        4.04040404,  4.14141414,  4.24242424,  4.34343434,  4.44444444,\n",
       "        4.54545455,  4.64646465,  4.74747475,  4.84848485,  4.94949495,\n",
       "        5.05050505,  5.15151515,  5.25252525,  5.35353535,  5.45454545,\n",
       "        5.55555556,  5.65656566,  5.75757576,  5.85858586,  5.95959596,\n",
       "        6.06060606,  6.16161616,  6.26262626,  6.36363636,  6.46464646,\n",
       "        6.56565657,  6.66666667,  6.76767677,  6.86868687,  6.96969697,\n",
       "        7.07070707,  7.17171717,  7.27272727,  7.37373737,  7.47474747,\n",
       "        7.57575758,  7.67676768,  7.77777778,  7.87878788,  7.97979798,\n",
       "        8.08080808,  8.18181818,  8.28282828,  8.38383838,  8.48484848,\n",
       "        8.58585859,  8.68686869,  8.78787879,  8.88888889,  8.98989899,\n",
       "        9.09090909,  9.19191919,  9.29292929,  9.39393939,  9.49494949,\n",
       "        9.5959596 ,  9.6969697 ,  9.7979798 ,  9.8989899 , 10.        ])"
      ]
     },
     "execution_count": 18,
     "metadata": {},
     "output_type": "execute_result"
    }
   ],
   "source": [
    "arr"
   ]
  },
  {
   "cell_type": "code",
   "execution_count": 23,
   "metadata": {},
   "outputs": [],
   "source": [
    "arr1=np.arange(27)"
   ]
  },
  {
   "cell_type": "code",
   "execution_count": 24,
   "metadata": {},
   "outputs": [
    {
     "data": {
      "text/plain": [
       "array([ 0,  1,  2,  3,  4,  5,  6,  7,  8,  9, 10, 11, 12, 13, 14, 15, 16,\n",
       "       17, 18, 19, 20, 21, 22, 23, 24, 25, 26])"
      ]
     },
     "execution_count": 24,
     "metadata": {},
     "output_type": "execute_result"
    }
   ],
   "source": [
    "arr1"
   ]
  },
  {
   "cell_type": "code",
   "execution_count": 1,
   "metadata": {},
   "outputs": [],
   "source": [
    "import os,csv"
   ]
  },
  {
   "cell_type": "code",
   "execution_count": 2,
   "metadata": {},
   "outputs": [],
   "source": [
    "file=os.path.join(\"C:\\\\Users\\\\ashokkumar\\\\Downloads\",\"cities.csv\")"
   ]
  },
  {
   "cell_type": "code",
   "execution_count": 3,
   "metadata": {},
   "outputs": [],
   "source": [
    "myList=list(map(csv.reader,open(file))"
   ]
  },
  {
   "cell_type": "code",
   "execution_count": 5,
   "metadata": {},
   "outputs": [
    {
     "name": "stdout",
     "output_type": "stream",
     "text": [
      "['LatD', 'LatM', 'LatS', 'NS', 'LonD', 'LonM', 'LonS', 'EW', 'City', 'State']\n",
      "['41', '5', '59', 'N', '80', '39', '0', 'W', 'Youngstown', 'OH']\n",
      "['42', '52', '48', 'N', '97', '23', '23', 'W', 'Yankton', 'SD']\n",
      "['46', '35', '59', 'N', '120', '30', '36', 'W', 'Yakima', 'WA']\n",
      "['42', '16', '12', 'N', '71', '48', '0', 'W', 'Worcester', 'MA']\n",
      "['43', '37', '48', 'N', '89', '46', '11', 'W', 'WisconsinDells', 'WI']\n",
      "['36', '5', '59', 'N', '80', '15', '0', 'W', 'Winston-Salem', 'NC']\n",
      "['49', '52', '48', 'N', '97', '9', '0', 'W', 'Winnipeg', 'MB']\n",
      "['39', '11', '23', 'N', '78', '9', '36', 'W', 'Winchester', 'VA']\n",
      "['34', '14', '24', 'N', '77', '55', '11', 'W', 'Wilmington', 'NC']\n",
      "['39', '45', '0', 'N', '75', '33', '0', 'W', 'Wilmington', 'DE']\n",
      "['48', '9', '0', 'N', '103', '37', '12', 'W', 'Williston', 'ND']\n",
      "['41', '15', '0', 'N', '77', '0', '0', 'W', 'Williamsport', 'PA']\n",
      "['37', '40', '48', 'N', '82', '16', '47', 'W', 'Williamson', 'WV']\n",
      "['33', '54', '0', 'N', '98', '29', '23', 'W', 'WichitaFalls', 'TX']\n",
      "['37', '41', '23', 'N', '97', '20', '23', 'W', 'Wichita', 'KS']\n",
      "['40', '4', '11', 'N', '80', '43', '12', 'W', 'Wheeling', 'WV']\n",
      "['26', '43', '11', 'N', '80', '3', '0', 'W', 'WestPalmBeach', 'FL']\n",
      "['47', '25', '11', 'N', '120', '19', '11', 'W', 'Wenatchee', 'WA']\n",
      "['41', '25', '11', 'N', '122', '23', '23', 'W', 'Weed', 'CA']\n",
      "['31', '13', '11', 'N', '82', '20', '59', 'W', 'Waycross', 'GA']\n",
      "['44', '57', '35', 'N', '89', '38', '23', 'W', 'Wausau', 'WI']\n",
      "['42', '21', '36', 'N', '87', '49', '48', 'W', 'Waukegan', 'IL']\n",
      "['44', '54', '0', 'N', '97', '6', '36', 'W', 'Watertown', 'SD']\n",
      "['43', '58', '47', 'N', '75', '55', '11', 'W', 'Watertown', 'NY']\n",
      "['42', '30', '0', 'N', '92', '20', '23', 'W', 'Waterloo', 'IA']\n",
      "['41', '32', '59', 'N', '73', '3', '0', 'W', 'Waterbury', 'CT']\n",
      "['38', '53', '23', 'N', '77', '1', '47', 'W', 'Washington', 'DC']\n",
      "['41', '50', '59', 'N', '79', '8', '23', 'W', 'Warren', 'PA']\n",
      "['46', '4', '11', 'N', '118', '19', '48', 'W', 'WallaWalla', 'WA']\n",
      "['31', '32', '59', 'N', '97', '8', '23', 'W', 'Waco', 'TX']\n",
      "['38', '40', '48', 'N', '87', '31', '47', 'W', 'Vincennes', 'IN']\n",
      "['28', '48', '35', 'N', '97', '0', '36', 'W', 'Victoria', 'TX']\n",
      "['32', '20', '59', 'N', '90', '52', '47', 'W', 'Vicksburg', 'MS']\n",
      "['49', '16', '12', 'N', '123', '7', '12', 'W', 'Vancouver', 'BC']\n",
      "['46', '55', '11', 'N', '98', '0', '36', 'W', 'ValleyCity', 'ND']\n",
      "['30', '49', '47', 'N', '83', '16', '47', 'W', 'Valdosta', 'GA']\n",
      "['43', '6', '36', 'N', '75', '13', '48', 'W', 'Utica', 'NY']\n",
      "['39', '54', '0', 'N', '79', '43', '48', 'W', 'Uniontown', 'PA']\n",
      "['32', '20', '59', 'N', '95', '18', '0', 'W', 'Tyler', 'TX']\n",
      "['42', '33', '36', 'N', '114', '28', '12', 'W', 'TwinFalls', 'ID']\n",
      "['33', '12', '35', 'N', '87', '34', '11', 'W', 'Tuscaloosa', 'AL']\n",
      "['34', '15', '35', 'N', '88', '42', '35', 'W', 'Tupelo', 'MS']\n",
      "['36', '9', '35', 'N', '95', '54', '36', 'W', 'Tulsa', 'OK']\n",
      "['32', '13', '12', 'N', '110', '58', '12', 'W', 'Tucson', 'AZ']\n",
      "['37', '10', '11', 'N', '104', '30', '36', 'W', 'Trinidad', 'CO']\n",
      "['40', '13', '47', 'N', '74', '46', '11', 'W', 'Trenton', 'NJ']\n",
      "['44', '45', '35', 'N', '85', '37', '47', 'W', 'TraverseCity', 'MI']\n",
      "['43', '39', '0', 'N', '79', '22', '47', 'W', 'Toronto', 'ON']\n",
      "['39', '2', '59', 'N', '95', '40', '11', 'W', 'Topeka', 'KS']\n",
      "['41', '39', '0', 'N', '83', '32', '24', 'W', 'Toledo', 'OH']\n",
      "['33', '25', '48', 'N', '94', '3', '0', 'W', 'Texarkana', 'TX']\n",
      "['39', '28', '12', 'N', '87', '24', '36', 'W', 'TerreHaute', 'IN']\n",
      "['27', '57', '0', 'N', '82', '26', '59', 'W', 'Tampa', 'FL']\n",
      "['30', '27', '0', 'N', '84', '16', '47', 'W', 'Tallahassee', 'FL']\n",
      "['47', '14', '24', 'N', '122', '25', '48', 'W', 'Tacoma', 'WA']\n",
      "['43', '2', '59', 'N', '76', '9', '0', 'W', 'Syracuse', 'NY']\n",
      "['32', '35', '59', 'N', '82', '20', '23', 'W', 'Swainsboro', 'GA']\n",
      "['33', '55', '11', 'N', '80', '20', '59', 'W', 'Sumter', 'SC']\n",
      "['40', '59', '24', 'N', '75', '11', '24', 'W', 'Stroudsburg', 'PA']\n",
      "['37', '57', '35', 'N', '121', '17', '24', 'W', 'Stockton', 'CA']\n",
      "['44', '31', '12', 'N', '89', '34', '11', 'W', 'StevensPoint', 'WI']\n",
      "['40', '21', '36', 'N', '80', '37', '12', 'W', 'Steubenville', 'OH']\n",
      "['40', '37', '11', 'N', '103', '13', '12', 'W', 'Sterling', 'CO']\n",
      "['38', '9', '0', 'N', '79', '4', '11', 'W', 'Staunton', 'VA']\n",
      "['39', '55', '11', 'N', '83', '48', '35', 'W', 'Springfield', 'OH']\n",
      "['37', '13', '12', 'N', '93', '17', '24', 'W', 'Springfield', 'MO']\n",
      "['42', '5', '59', 'N', '72', '35', '23', 'W', 'Springfield', 'MA']\n",
      "['39', '47', '59', 'N', '89', '39', '0', 'W', 'Springfield', 'IL']\n",
      "['47', '40', '11', 'N', '117', '24', '36', 'W', 'Spokane', 'WA']\n",
      "['41', '40', '48', 'N', '86', '15', '0', 'W', 'SouthBend', 'IN']\n",
      "['43', '32', '24', 'N', '96', '43', '48', 'W', 'SiouxFalls', 'SD']\n",
      "['42', '29', '24', 'N', '96', '23', '23', 'W', 'SiouxCity', 'IA']\n",
      "['32', '30', '35', 'N', '93', '45', '0', 'W', 'Shreveport', 'LA']\n",
      "['33', '38', '23', 'N', '96', '36', '36', 'W', 'Sherman', 'TX']\n",
      "['44', '47', '59', 'N', '106', '57', '35', 'W', 'Sheridan', 'WY']\n",
      "['35', '13', '47', 'N', '96', '40', '48', 'W', 'Seminole', 'OK']\n",
      "['32', '25', '11', 'N', '87', '1', '11', 'W', 'Selma', 'AL']\n",
      "['38', '42', '35', 'N', '93', '13', '48', 'W', 'Sedalia', 'MO']\n",
      "['47', '35', '59', 'N', '122', '19', '48', 'W', 'Seattle', 'WA']\n",
      "['41', '24', '35', 'N', '75', '40', '11', 'W', 'Scranton', 'PA']\n",
      "['41', '52', '11', 'N', '103', '39', '36', 'W', 'Scottsbluff', 'NB']\n",
      "['42', '49', '11', 'N', '73', '56', '59', 'W', 'Schenectady', 'NY']\n",
      "['32', '4', '48', 'N', '81', '5', '23', 'W', 'Savannah', 'GA']\n",
      "['46', '29', '24', 'N', '84', '20', '59', 'W', 'SaultSainteMarie', 'MI']\n",
      "['27', '20', '24', 'N', '82', '31', '47', 'W', 'Sarasota', 'FL']\n",
      "['38', '26', '23', 'N', '122', '43', '12', 'W', 'SantaRosa', 'CA']\n",
      "['35', '40', '48', 'N', '105', '56', '59', 'W', 'SantaFe', 'NM']\n",
      "['34', '25', '11', 'N', '119', '41', '59', 'W', 'SantaBarbara', 'CA']\n",
      "['33', '45', '35', 'N', '117', '52', '12', 'W', 'SantaAna', 'CA']\n",
      "['37', '20', '24', 'N', '121', '52', '47', 'W', 'SanJose', 'CA']\n",
      "['37', '46', '47', 'N', '122', '25', '11', 'W', 'SanFrancisco', 'CA']\n",
      "['41', '27', '0', 'N', '82', '42', '35', 'W', 'Sandusky', 'OH']\n",
      "['32', '42', '35', 'N', '117', '9', '0', 'W', 'SanDiego', 'CA']\n",
      "['34', '6', '36', 'N', '117', '18', '35', 'W', 'SanBernardino', 'CA']\n",
      "['29', '25', '12', 'N', '98', '30', '0', 'W', 'SanAntonio', 'TX']\n",
      "['31', '27', '35', 'N', '100', '26', '24', 'W', 'SanAngelo', 'TX']\n",
      "['40', '45', '35', 'N', '111', '52', '47', 'W', 'SaltLakeCity', 'UT']\n",
      "['38', '22', '11', 'N', '75', '35', '59', 'W', 'Salisbury', 'MD']\n",
      "['36', '40', '11', 'N', '121', '39', '0', 'W', 'Salinas', 'CA']\n",
      "['38', '50', '24', 'N', '97', '36', '36', 'W', 'Salina', 'KS']\n",
      "['38', '31', '47', 'N', '106', '0', '0', 'W', 'Salida', 'CO']\n",
      "['44', '56', '23', 'N', '123', '1', '47', 'W', 'Salem', 'OR']\n",
      "['44', '57', '0', 'N', '93', '5', '59', 'W', 'SaintPaul', 'MN']\n",
      "['38', '37', '11', 'N', '90', '11', '24', 'W', 'SaintLouis', 'MO']\n",
      "['39', '46', '12', 'N', '94', '50', '23', 'W', 'SaintJoseph', 'MO']\n",
      "['42', '5', '59', 'N', '86', '28', '48', 'W', 'SaintJoseph', 'MI']\n",
      "['44', '25', '11', 'N', '72', '1', '11', 'W', 'SaintJohnsbury', 'VT']\n",
      "['45', '34', '11', 'N', '94', '10', '11', 'W', 'SaintCloud', 'MN']\n",
      "['29', '53', '23', 'N', '81', '19', '11', 'W', 'SaintAugustine', 'FL']\n",
      "['43', '25', '48', 'N', '83', '56', '24', 'W', 'Saginaw', 'MI']\n",
      "['38', '35', '24', 'N', '121', '29', '23', 'W', 'Sacramento', 'CA']\n",
      "['43', '36', '36', 'N', '72', '58', '12', 'W', 'Rutland', 'VT']\n",
      "['33', '24', '0', 'N', '104', '31', '47', 'W', 'Roswell', 'NM']\n",
      "['35', '56', '23', 'N', '77', '48', '0', 'W', 'RockyMount', 'NC']\n",
      "['41', '35', '24', 'N', '109', '13', '48', 'W', 'RockSprings', 'WY']\n",
      "['42', '16', '12', 'N', '89', '5', '59', 'W', 'Rockford', 'IL']\n",
      "['43', '9', '35', 'N', '77', '36', '36', 'W', 'Rochester', 'NY']\n",
      "['44', '1', '12', 'N', '92', '27', '35', 'W', 'Rochester', 'MN']\n",
      "['37', '16', '12', 'N', '79', '56', '24', 'W', 'Roanoke', 'VA']\n",
      "['37', '32', '24', 'N', '77', '26', '59', 'W', 'Richmond', 'VA']\n",
      "['39', '49', '48', 'N', '84', '53', '23', 'W', 'Richmond', 'IN']\n",
      "['38', '46', '12', 'N', '112', '5', '23', 'W', 'Richfield', 'UT']\n",
      "['45', '38', '23', 'N', '89', '25', '11', 'W', 'Rhinelander', 'WI']\n",
      "['39', '31', '12', 'N', '119', '48', '35', 'W', 'Reno', 'NV']\n",
      "['50', '25', '11', 'N', '104', '39', '0', 'W', 'Regina', 'SA']\n",
      "['40', '10', '48', 'N', '122', '14', '23', 'W', 'RedBluff', 'CA']\n",
      "['40', '19', '48', 'N', '75', '55', '48', 'W', 'Reading', 'PA']\n",
      "['41', '9', '35', 'N', '81', '14', '23', 'W', 'Ravenna', 'OH']\n"
     ]
    }
   ],
   "source": [
    "with open(file) as f:\n",
    "    row=csv.reader(f,delimiter=',')\n",
    "    for i in row:\n",
    "        print(i)"
   ]
  },
  {
   "cell_type": "code",
   "execution_count": 6,
   "metadata": {},
   "outputs": [],
   "source": [
    "import numpy as np"
   ]
  },
  {
   "cell_type": "code",
   "execution_count": 8,
   "metadata": {},
   "outputs": [],
   "source": [
    "with open(file) as ff:\n",
    "    csvReader=csv.reader(ff)\n",
    "    myList=[x for x in csvReader]\n",
    "    arr=np.array(myList)"
   ]
  },
  {
   "cell_type": "code",
   "execution_count": 12,
   "metadata": {},
   "outputs": [
    {
     "data": {
      "text/plain": [
       "'41'"
      ]
     },
     "execution_count": 12,
     "metadata": {},
     "output_type": "execute_result"
    }
   ],
   "source": [
    "arr[1,0]"
   ]
  },
  {
   "cell_type": "code",
   "execution_count": 20,
   "metadata": {},
   "outputs": [
    {
     "name": "stdout",
     "output_type": "stream",
     "text": [
      "\n",
      "List 19.996166229248047 3612\n",
      "numpy 0.0 [          0      200000      400000 ... -1475436480 -1475236480\n",
      " -1475036480]\n",
      "\n"
     ]
    }
   ],
   "source": [
    "import sys,time\n",
    "\n",
    "SIZE=100000\n",
    "Time=time.time()\n",
    "list1=range(SIZE)\n",
    "list2=range(SIZE)\n",
    "\n",
    "myL=[x+y for x,y in zip(list1,list2)]\n",
    "ListTime=(time.time() -Time)*1000\n",
    "sizeOf=sys.getsizeof(5)*len(myList)\n",
    "Time=time.time()\n",
    "\n",
    "npList1=np.arange(SIZE)\n",
    "npList2=np.arange(SIZE)\n",
    "myNPL=npList1 + npList2\n",
    "\n",
    "npTime=(time.time() -Time)*1000\n",
    "npSizeOf=myNPL.size*myNPL\n",
    "\n",
    "print (\"\"\"\n",
    "List {0} {2}\n",
    "numpy {1} {3}\n",
    "\"\"\" .format(ListTime,npTime,sizeOf,npSizeOf))\n"
   ]
  },
  {
   "cell_type": "code",
   "execution_count": 1,
   "metadata": {},
   "outputs": [],
   "source": [
    "import smtplib"
   ]
  },
  {
   "cell_type": "code",
   "execution_count": 3,
   "metadata": {},
   "outputs": [],
   "source": [
    "S=smtplib.SMTP(\"smtp.gmail.com\",587)"
   ]
  },
  {
   "cell_type": "code",
   "execution_count": 4,
   "metadata": {},
   "outputs": [
    {
     "data": {
      "text/plain": [
       "(220, b'2.0.0 Ready to start TLS')"
      ]
     },
     "execution_count": 4,
     "metadata": {},
     "output_type": "execute_result"
    }
   ],
   "source": [
    "S.starttls()"
   ]
  },
  {
   "cell_type": "code",
   "execution_count": 8,
   "metadata": {},
   "outputs": [],
   "source": [
    "import win32com.client as win32"
   ]
  },
  {
   "cell_type": "code",
   "execution_count": 9,
   "metadata": {},
   "outputs": [],
   "source": [
    "def send_notification():\n",
    "    outlook = win32.Dispatch('outlook.application')\n",
    "    mail = outlook.CreateItem(0)\n",
    "    mail.To = 'ashokkumar.rr@hotmail.com' \n",
    "    mail.Subject = 'Sent through Python'\n",
    "    mail.body = 'This email alert is auto generated. Please do not respond.'\n",
    "    mail.send"
   ]
  },
  {
   "cell_type": "code",
   "execution_count": null,
   "metadata": {},
   "outputs": [],
   "source": []
  }
 ],
 "metadata": {
  "kernelspec": {
   "display_name": "Python 3",
   "language": "python",
   "name": "python3"
  },
  "language_info": {
   "codemirror_mode": {
    "name": "ipython",
    "version": 3
   },
   "file_extension": ".py",
   "mimetype": "text/x-python",
   "name": "python",
   "nbconvert_exporter": "python",
   "pygments_lexer": "ipython3",
   "version": "3.6.5"
  }
 },
 "nbformat": 4,
 "nbformat_minor": 2
}
