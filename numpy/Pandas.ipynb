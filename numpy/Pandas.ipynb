{
 "cells": [
  {
   "cell_type": "code",
   "execution_count": 1,
   "metadata": {},
   "outputs": [],
   "source": [
    "import numpy as np\n",
    "import pandas as pd"
   ]
  },
  {
   "cell_type": "code",
   "execution_count": 3,
   "metadata": {},
   "outputs": [
    {
     "data": {
      "text/plain": [
       "array([0, 1, 2, 3, 4, 5, 6, 7, 8])"
      ]
     },
     "execution_count": 3,
     "metadata": {},
     "output_type": "execute_result"
    }
   ],
   "source": [
    "np.arange(9)"
   ]
  },
  {
   "cell_type": "code",
   "execution_count": 1,
   "metadata": {},
   "outputs": [],
   "source": [
    "import csv"
   ]
  },
  {
   "cell_type": "code",
   "execution_count": 2,
   "metadata": {},
   "outputs": [],
   "source": [
    "import os"
   ]
  },
  {
   "cell_type": "code",
   "execution_count": 15,
   "metadata": {},
   "outputs": [],
   "source": [
    "fileCsv=os.path.join(\"C:\\\\Users\\\\ashokkumar\\\\Downloads\\\\\"+\"cities.csv\")"
   ]
  },
  {
   "cell_type": "code",
   "execution_count": 16,
   "metadata": {},
   "outputs": [
    {
     "name": "stdout",
     "output_type": "stream",
     "text": [
      "[['LatD', 'LatM', 'LatS', 'NS', 'LonD', 'LonM', 'LonS', 'EW', 'City', 'State'], ['41', '5', '59', 'N', '80', '39', '0', 'W', 'Youngstown', 'OH'], ['42', '52', '48', 'N', '97', '23', '23', 'W', 'Yankton', 'SD'], ['46', '35', '59', 'N', '120', '30', '36', 'W', 'Yakima', 'WA'], ['42', '16', '12', 'N', '71', '48', '0', 'W', 'Worcester', 'MA'], ['43', '37', '48', 'N', '89', '46', '11', 'W', 'WisconsinDells', 'WI'], ['36', '5', '59', 'N', '80', '15', '0', 'W', 'Winston-Salem', 'NC'], ['49', '52', '48', 'N', '97', '9', '0', 'W', 'Winnipeg', 'MB'], ['39', '11', '23', 'N', '78', '9', '36', 'W', 'Winchester', 'VA'], ['34', '14', '24', 'N', '77', '55', '11', 'W', 'Wilmington', 'NC'], ['39', '45', '0', 'N', '75', '33', '0', 'W', 'Wilmington', 'DE'], ['48', '9', '0', 'N', '103', '37', '12', 'W', 'Williston', 'ND'], ['41', '15', '0', 'N', '77', '0', '0', 'W', 'Williamsport', 'PA'], ['37', '40', '48', 'N', '82', '16', '47', 'W', 'Williamson', 'WV'], ['33', '54', '0', 'N', '98', '29', '23', 'W', 'WichitaFalls', 'TX'], ['37', '41', '23', 'N', '97', '20', '23', 'W', 'Wichita', 'KS'], ['40', '4', '11', 'N', '80', '43', '12', 'W', 'Wheeling', 'WV'], ['26', '43', '11', 'N', '80', '3', '0', 'W', 'WestPalmBeach', 'FL'], ['47', '25', '11', 'N', '120', '19', '11', 'W', 'Wenatchee', 'WA'], ['41', '25', '11', 'N', '122', '23', '23', 'W', 'Weed', 'CA'], ['31', '13', '11', 'N', '82', '20', '59', 'W', 'Waycross', 'GA'], ['44', '57', '35', 'N', '89', '38', '23', 'W', 'Wausau', 'WI'], ['42', '21', '36', 'N', '87', '49', '48', 'W', 'Waukegan', 'IL'], ['44', '54', '0', 'N', '97', '6', '36', 'W', 'Watertown', 'SD'], ['43', '58', '47', 'N', '75', '55', '11', 'W', 'Watertown', 'NY'], ['42', '30', '0', 'N', '92', '20', '23', 'W', 'Waterloo', 'IA'], ['41', '32', '59', 'N', '73', '3', '0', 'W', 'Waterbury', 'CT'], ['38', '53', '23', 'N', '77', '1', '47', 'W', 'Washington', 'DC'], ['41', '50', '59', 'N', '79', '8', '23', 'W', 'Warren', 'PA'], ['46', '4', '11', 'N', '118', '19', '48', 'W', 'WallaWalla', 'WA'], ['31', '32', '59', 'N', '97', '8', '23', 'W', 'Waco', 'TX'], ['38', '40', '48', 'N', '87', '31', '47', 'W', 'Vincennes', 'IN'], ['28', '48', '35', 'N', '97', '0', '36', 'W', 'Victoria', 'TX'], ['32', '20', '59', 'N', '90', '52', '47', 'W', 'Vicksburg', 'MS'], ['49', '16', '12', 'N', '123', '7', '12', 'W', 'Vancouver', 'BC'], ['46', '55', '11', 'N', '98', '0', '36', 'W', 'ValleyCity', 'ND'], ['30', '49', '47', 'N', '83', '16', '47', 'W', 'Valdosta', 'GA'], ['43', '6', '36', 'N', '75', '13', '48', 'W', 'Utica', 'NY'], ['39', '54', '0', 'N', '79', '43', '48', 'W', 'Uniontown', 'PA'], ['32', '20', '59', 'N', '95', '18', '0', 'W', 'Tyler', 'TX'], ['42', '33', '36', 'N', '114', '28', '12', 'W', 'TwinFalls', 'ID'], ['33', '12', '35', 'N', '87', '34', '11', 'W', 'Tuscaloosa', 'AL'], ['34', '15', '35', 'N', '88', '42', '35', 'W', 'Tupelo', 'MS'], ['36', '9', '35', 'N', '95', '54', '36', 'W', 'Tulsa', 'OK'], ['32', '13', '12', 'N', '110', '58', '12', 'W', 'Tucson', 'AZ'], ['37', '10', '11', 'N', '104', '30', '36', 'W', 'Trinidad', 'CO'], ['40', '13', '47', 'N', '74', '46', '11', 'W', 'Trenton', 'NJ'], ['44', '45', '35', 'N', '85', '37', '47', 'W', 'TraverseCity', 'MI'], ['43', '39', '0', 'N', '79', '22', '47', 'W', 'Toronto', 'ON'], ['39', '2', '59', 'N', '95', '40', '11', 'W', 'Topeka', 'KS'], ['41', '39', '0', 'N', '83', '32', '24', 'W', 'Toledo', 'OH'], ['33', '25', '48', 'N', '94', '3', '0', 'W', 'Texarkana', 'TX'], ['39', '28', '12', 'N', '87', '24', '36', 'W', 'TerreHaute', 'IN'], ['27', '57', '0', 'N', '82', '26', '59', 'W', 'Tampa', 'FL'], ['30', '27', '0', 'N', '84', '16', '47', 'W', 'Tallahassee', 'FL'], ['47', '14', '24', 'N', '122', '25', '48', 'W', 'Tacoma', 'WA'], ['43', '2', '59', 'N', '76', '9', '0', 'W', 'Syracuse', 'NY'], ['32', '35', '59', 'N', '82', '20', '23', 'W', 'Swainsboro', 'GA'], ['33', '55', '11', 'N', '80', '20', '59', 'W', 'Sumter', 'SC'], ['40', '59', '24', 'N', '75', '11', '24', 'W', 'Stroudsburg', 'PA'], ['37', '57', '35', 'N', '121', '17', '24', 'W', 'Stockton', 'CA'], ['44', '31', '12', 'N', '89', '34', '11', 'W', 'StevensPoint', 'WI'], ['40', '21', '36', 'N', '80', '37', '12', 'W', 'Steubenville', 'OH'], ['40', '37', '11', 'N', '103', '13', '12', 'W', 'Sterling', 'CO'], ['38', '9', '0', 'N', '79', '4', '11', 'W', 'Staunton', 'VA'], ['39', '55', '11', 'N', '83', '48', '35', 'W', 'Springfield', 'OH'], ['37', '13', '12', 'N', '93', '17', '24', 'W', 'Springfield', 'MO'], ['42', '5', '59', 'N', '72', '35', '23', 'W', 'Springfield', 'MA'], ['39', '47', '59', 'N', '89', '39', '0', 'W', 'Springfield', 'IL'], ['47', '40', '11', 'N', '117', '24', '36', 'W', 'Spokane', 'WA'], ['41', '40', '48', 'N', '86', '15', '0', 'W', 'SouthBend', 'IN'], ['43', '32', '24', 'N', '96', '43', '48', 'W', 'SiouxFalls', 'SD'], ['42', '29', '24', 'N', '96', '23', '23', 'W', 'SiouxCity', 'IA'], ['32', '30', '35', 'N', '93', '45', '0', 'W', 'Shreveport', 'LA'], ['33', '38', '23', 'N', '96', '36', '36', 'W', 'Sherman', 'TX'], ['44', '47', '59', 'N', '106', '57', '35', 'W', 'Sheridan', 'WY'], ['35', '13', '47', 'N', '96', '40', '48', 'W', 'Seminole', 'OK'], ['32', '25', '11', 'N', '87', '1', '11', 'W', 'Selma', 'AL'], ['38', '42', '35', 'N', '93', '13', '48', 'W', 'Sedalia', 'MO'], ['47', '35', '59', 'N', '122', '19', '48', 'W', 'Seattle', 'WA'], ['41', '24', '35', 'N', '75', '40', '11', 'W', 'Scranton', 'PA'], ['41', '52', '11', 'N', '103', '39', '36', 'W', 'Scottsbluff', 'NB'], ['42', '49', '11', 'N', '73', '56', '59', 'W', 'Schenectady', 'NY'], ['32', '4', '48', 'N', '81', '5', '23', 'W', 'Savannah', 'GA'], ['46', '29', '24', 'N', '84', '20', '59', 'W', 'SaultSainteMarie', 'MI'], ['27', '20', '24', 'N', '82', '31', '47', 'W', 'Sarasota', 'FL'], ['38', '26', '23', 'N', '122', '43', '12', 'W', 'SantaRosa', 'CA'], ['35', '40', '48', 'N', '105', '56', '59', 'W', 'SantaFe', 'NM'], ['34', '25', '11', 'N', '119', '41', '59', 'W', 'SantaBarbara', 'CA'], ['33', '45', '35', 'N', '117', '52', '12', 'W', 'SantaAna', 'CA'], ['37', '20', '24', 'N', '121', '52', '47', 'W', 'SanJose', 'CA'], ['37', '46', '47', 'N', '122', '25', '11', 'W', 'SanFrancisco', 'CA'], ['41', '27', '0', 'N', '82', '42', '35', 'W', 'Sandusky', 'OH'], ['32', '42', '35', 'N', '117', '9', '0', 'W', 'SanDiego', 'CA'], ['34', '6', '36', 'N', '117', '18', '35', 'W', 'SanBernardino', 'CA'], ['29', '25', '12', 'N', '98', '30', '0', 'W', 'SanAntonio', 'TX'], ['31', '27', '35', 'N', '100', '26', '24', 'W', 'SanAngelo', 'TX'], ['40', '45', '35', 'N', '111', '52', '47', 'W', 'SaltLakeCity', 'UT'], ['38', '22', '11', 'N', '75', '35', '59', 'W', 'Salisbury', 'MD'], ['36', '40', '11', 'N', '121', '39', '0', 'W', 'Salinas', 'CA'], ['38', '50', '24', 'N', '97', '36', '36', 'W', 'Salina', 'KS'], ['38', '31', '47', 'N', '106', '0', '0', 'W', 'Salida', 'CO'], ['44', '56', '23', 'N', '123', '1', '47', 'W', 'Salem', 'OR'], ['44', '57', '0', 'N', '93', '5', '59', 'W', 'SaintPaul', 'MN'], ['38', '37', '11', 'N', '90', '11', '24', 'W', 'SaintLouis', 'MO'], ['39', '46', '12', 'N', '94', '50', '23', 'W', 'SaintJoseph', 'MO'], ['42', '5', '59', 'N', '86', '28', '48', 'W', 'SaintJoseph', 'MI'], ['44', '25', '11', 'N', '72', '1', '11', 'W', 'SaintJohnsbury', 'VT'], ['45', '34', '11', 'N', '94', '10', '11', 'W', 'SaintCloud', 'MN'], ['29', '53', '23', 'N', '81', '19', '11', 'W', 'SaintAugustine', 'FL'], ['43', '25', '48', 'N', '83', '56', '24', 'W', 'Saginaw', 'MI'], ['38', '35', '24', 'N', '121', '29', '23', 'W', 'Sacramento', 'CA'], ['43', '36', '36', 'N', '72', '58', '12', 'W', 'Rutland', 'VT'], ['33', '24', '0', 'N', '104', '31', '47', 'W', 'Roswell', 'NM'], ['35', '56', '23', 'N', '77', '48', '0', 'W', 'RockyMount', 'NC'], ['41', '35', '24', 'N', '109', '13', '48', 'W', 'RockSprings', 'WY'], ['42', '16', '12', 'N', '89', '5', '59', 'W', 'Rockford', 'IL'], ['43', '9', '35', 'N', '77', '36', '36', 'W', 'Rochester', 'NY'], ['44', '1', '12', 'N', '92', '27', '35', 'W', 'Rochester', 'MN'], ['37', '16', '12', 'N', '79', '56', '24', 'W', 'Roanoke', 'VA'], ['37', '32', '24', 'N', '77', '26', '59', 'W', 'Richmond', 'VA'], ['39', '49', '48', 'N', '84', '53', '23', 'W', 'Richmond', 'IN'], ['38', '46', '12', 'N', '112', '5', '23', 'W', 'Richfield', 'UT'], ['45', '38', '23', 'N', '89', '25', '11', 'W', 'Rhinelander', 'WI'], ['39', '31', '12', 'N', '119', '48', '35', 'W', 'Reno', 'NV'], ['50', '25', '11', 'N', '104', '39', '0', 'W', 'Regina', 'SA'], ['40', '10', '48', 'N', '122', '14', '23', 'W', 'RedBluff', 'CA'], ['40', '19', '48', 'N', '75', '55', '48', 'W', 'Reading', 'PA'], ['41', '9', '35', 'N', '81', '14', '23', 'W', 'Ravenna', 'OH']]\n"
     ]
    }
   ],
   "source": [
    "with open(fileCsv) as f:\n",
    "    csvOp=list(csv.reader(f))\n",
    "print(csvOp)"
   ]
  },
  {
   "cell_type": "code",
   "execution_count": 9,
   "metadata": {},
   "outputs": [
    {
     "data": {
      "text/plain": [
       "['LatD',\n",
       " ' \"LatM\"',\n",
       " ' \"LatS\"',\n",
       " ' \"NS\"',\n",
       " ' \"LonD\"',\n",
       " ' \"LonM\"',\n",
       " ' \"LonS\"',\n",
       " ' \"EW\"',\n",
       " ' \"City\"',\n",
       " ' \"State\"']"
      ]
     },
     "execution_count": 9,
     "metadata": {},
     "output_type": "execute_result"
    }
   ],
   "source": [
    "csvOp[0]"
   ]
  },
  {
   "cell_type": "code",
   "execution_count": 13,
   "metadata": {},
   "outputs": [],
   "source": [
    "import numpy as np"
   ]
  },
  {
   "cell_type": "code",
   "execution_count": 21,
   "metadata": {},
   "outputs": [
    {
     "data": {
      "text/plain": [
       "array([['LatD', 'LatM', 'LatS', ..., 'EW', 'City', 'State'],\n",
       "       ['41', '5', '59', ..., 'W', 'Youngstown', 'OH'],\n",
       "       ['42', '52', '48', ..., 'W', 'Yankton', 'SD'],\n",
       "       ...,\n",
       "       ['40', '10', '48', ..., 'W', 'RedBluff', 'CA'],\n",
       "       ['40', '19', '48', ..., 'W', 'Reading', 'PA'],\n",
       "       ['41', '9', '35', ..., 'W', 'Ravenna', 'OH']], dtype='<U16')"
      ]
     },
     "execution_count": 21,
     "metadata": {},
     "output_type": "execute_result"
    }
   ],
   "source": [
    "np.array(csvOp)"
   ]
  },
  {
   "cell_type": "code",
   "execution_count": 22,
   "metadata": {},
   "outputs": [],
   "source": [
    "import pandas as pd"
   ]
  },
  {
   "cell_type": "code",
   "execution_count": 23,
   "metadata": {},
   "outputs": [],
   "source": [
    "csvRest=np.array(csvOp)[1:]"
   ]
  },
  {
   "cell_type": "code",
   "execution_count": 28,
   "metadata": {},
   "outputs": [
    {
     "data": {
      "text/plain": [
       "array(['41', '5'], dtype='<U16')"
      ]
     },
     "execution_count": 28,
     "metadata": {},
     "output_type": "execute_result"
    }
   ],
   "source": [
    "csvRest.compress((1,3))"
   ]
  },
  {
   "cell_type": "code",
   "execution_count": 30,
   "metadata": {},
   "outputs": [
    {
     "data": {
      "text/plain": [
       "0    5\n",
       "1    6\n",
       "2    7\n",
       "dtype: int64"
      ]
     },
     "execution_count": 30,
     "metadata": {},
     "output_type": "execute_result"
    }
   ],
   "source": [
    "pd.Series([5,6,7])"
   ]
  },
  {
   "cell_type": "code",
   "execution_count": 33,
   "metadata": {},
   "outputs": [],
   "source": [
    "Header=list(np.array(csvOp)[0])"
   ]
  },
  {
   "cell_type": "code",
   "execution_count": 34,
   "metadata": {},
   "outputs": [],
   "source": [
    "Data=list(np.array(csvOp)[1:])"
   ]
  },
  {
   "cell_type": "code",
   "execution_count": 39,
   "metadata": {},
   "outputs": [],
   "source": [
    "ser=pd.Series(Data)"
   ]
  },
  {
   "cell_type": "code",
   "execution_count": 40,
   "metadata": {},
   "outputs": [
    {
     "data": {
      "text/plain": [
       "0           [41, 5, 59, N, 80, 39, 0, W, Youngstown, OH]\n",
       "1            [42, 52, 48, N, 97, 23, 23, W, Yankton, SD]\n",
       "2            [46, 35, 59, N, 120, 30, 36, W, Yakima, WA]\n",
       "3           [42, 16, 12, N, 71, 48, 0, W, Worcester, MA]\n",
       "4      [43, 37, 48, N, 89, 46, 11, W, WisconsinDells,...\n",
       "5        [36, 5, 59, N, 80, 15, 0, W, Winston-Salem, NC]\n",
       "6             [49, 52, 48, N, 97, 9, 0, W, Winnipeg, MB]\n",
       "7          [39, 11, 23, N, 78, 9, 36, W, Winchester, VA]\n",
       "8         [34, 14, 24, N, 77, 55, 11, W, Wilmington, NC]\n",
       "9           [39, 45, 0, N, 75, 33, 0, W, Wilmington, DE]\n",
       "10          [48, 9, 0, N, 103, 37, 12, W, Williston, ND]\n",
       "11         [41, 15, 0, N, 77, 0, 0, W, Williamsport, PA]\n",
       "12        [37, 40, 48, N, 82, 16, 47, W, Williamson, WV]\n",
       "13       [33, 54, 0, N, 98, 29, 23, W, WichitaFalls, TX]\n",
       "14           [37, 41, 23, N, 97, 20, 23, W, Wichita, KS]\n",
       "15           [40, 4, 11, N, 80, 43, 12, W, Wheeling, WV]\n",
       "16       [26, 43, 11, N, 80, 3, 0, W, WestPalmBeach, FL]\n",
       "17        [47, 25, 11, N, 120, 19, 11, W, Wenatchee, WA]\n",
       "18             [41, 25, 11, N, 122, 23, 23, W, Weed, CA]\n",
       "19          [31, 13, 11, N, 82, 20, 59, W, Waycross, GA]\n",
       "20            [44, 57, 35, N, 89, 38, 23, W, Wausau, WI]\n",
       "21          [42, 21, 36, N, 87, 49, 48, W, Waukegan, IL]\n",
       "22           [44, 54, 0, N, 97, 6, 36, W, Watertown, SD]\n",
       "23         [43, 58, 47, N, 75, 55, 11, W, Watertown, NY]\n",
       "24           [42, 30, 0, N, 92, 20, 23, W, Waterloo, IA]\n",
       "25           [41, 32, 59, N, 73, 3, 0, W, Waterbury, CT]\n",
       "26         [38, 53, 23, N, 77, 1, 47, W, Washington, DC]\n",
       "27             [41, 50, 59, N, 79, 8, 23, W, Warren, PA]\n",
       "28        [46, 4, 11, N, 118, 19, 48, W, WallaWalla, WA]\n",
       "29               [31, 32, 59, N, 97, 8, 23, W, Waco, TX]\n",
       "                             ...                        \n",
       "98           [36, 40, 11, N, 121, 39, 0, W, Salinas, CA]\n",
       "99            [38, 50, 24, N, 97, 36, 36, W, Salina, KS]\n",
       "100            [38, 31, 47, N, 106, 0, 0, W, Salida, CO]\n",
       "101            [44, 56, 23, N, 123, 1, 47, W, Salem, OR]\n",
       "102          [44, 57, 0, N, 93, 5, 59, W, SaintPaul, MN]\n",
       "103       [38, 37, 11, N, 90, 11, 24, W, SaintLouis, MO]\n",
       "104      [39, 46, 12, N, 94, 50, 23, W, SaintJoseph, MO]\n",
       "105       [42, 5, 59, N, 86, 28, 48, W, SaintJoseph, MI]\n",
       "106    [44, 25, 11, N, 72, 1, 11, W, SaintJohnsbury, VT]\n",
       "107       [45, 34, 11, N, 94, 10, 11, W, SaintCloud, MN]\n",
       "108    [29, 53, 23, N, 81, 19, 11, W, SaintAugustine,...\n",
       "109          [43, 25, 48, N, 83, 56, 24, W, Saginaw, MI]\n",
       "110      [38, 35, 24, N, 121, 29, 23, W, Sacramento, CA]\n",
       "111          [43, 36, 36, N, 72, 58, 12, W, Rutland, VT]\n",
       "112          [33, 24, 0, N, 104, 31, 47, W, Roswell, NM]\n",
       "113        [35, 56, 23, N, 77, 48, 0, W, RockyMount, NC]\n",
       "114     [41, 35, 24, N, 109, 13, 48, W, RockSprings, WY]\n",
       "115          [42, 16, 12, N, 89, 5, 59, W, Rockford, IL]\n",
       "116         [43, 9, 35, N, 77, 36, 36, W, Rochester, NY]\n",
       "117         [44, 1, 12, N, 92, 27, 35, W, Rochester, MN]\n",
       "118          [37, 16, 12, N, 79, 56, 24, W, Roanoke, VA]\n",
       "119         [37, 32, 24, N, 77, 26, 59, W, Richmond, VA]\n",
       "120         [39, 49, 48, N, 84, 53, 23, W, Richmond, IN]\n",
       "121        [38, 46, 12, N, 112, 5, 23, W, Richfield, UT]\n",
       "122      [45, 38, 23, N, 89, 25, 11, W, Rhinelander, WI]\n",
       "123            [39, 31, 12, N, 119, 48, 35, W, Reno, NV]\n",
       "124           [50, 25, 11, N, 104, 39, 0, W, Regina, SA]\n",
       "125        [40, 10, 48, N, 122, 14, 23, W, RedBluff, CA]\n",
       "126          [40, 19, 48, N, 75, 55, 48, W, Reading, PA]\n",
       "127           [41, 9, 35, N, 81, 14, 23, W, Ravenna, OH]\n",
       "Length: 128, dtype: object"
      ]
     },
     "execution_count": 40,
     "metadata": {},
     "output_type": "execute_result"
    }
   ],
   "source": [
    "ser"
   ]
  },
  {
   "cell_type": "code",
   "execution_count": 44,
   "metadata": {},
   "outputs": [
    {
     "data": {
      "text/plain": [
       "'Youngstown'"
      ]
     },
     "execution_count": 44,
     "metadata": {},
     "output_type": "execute_result"
    }
   ],
   "source": [
    "ser[0][-2]\n"
   ]
  },
  {
   "cell_type": "code",
   "execution_count": 56,
   "metadata": {},
   "outputs": [],
   "source": [
    "df=pd.DataFrame(data=Data,columns=Header)"
   ]
  },
  {
   "cell_type": "code",
   "execution_count": 55,
   "metadata": {},
   "outputs": [
    {
     "data": {
      "text/plain": [
       "[False,\n",
       " False,\n",
       " False,\n",
       " False,\n",
       " True,\n",
       " False,\n",
       " False,\n",
       " False,\n",
       " False,\n",
       " False,\n",
       " False,\n",
       " False,\n",
       " False,\n",
       " False,\n",
       " False,\n",
       " False,\n",
       " False,\n",
       " False,\n",
       " False,\n",
       " False,\n",
       " False,\n",
       " False,\n",
       " False,\n",
       " False,\n",
       " False,\n",
       " False,\n",
       " False,\n",
       " False,\n",
       " False,\n",
       " False,\n",
       " False,\n",
       " False,\n",
       " False,\n",
       " False,\n",
       " False,\n",
       " False,\n",
       " False,\n",
       " False,\n",
       " False,\n",
       " False,\n",
       " False,\n",
       " False,\n",
       " False,\n",
       " False,\n",
       " False,\n",
       " False,\n",
       " False,\n",
       " False,\n",
       " False,\n",
       " False,\n",
       " False,\n",
       " False,\n",
       " False,\n",
       " False,\n",
       " False,\n",
       " False,\n",
       " False,\n",
       " False,\n",
       " False,\n",
       " False,\n",
       " False,\n",
       " False,\n",
       " False,\n",
       " False,\n",
       " False,\n",
       " False,\n",
       " False,\n",
       " False,\n",
       " False,\n",
       " False,\n",
       " False,\n",
       " False,\n",
       " False,\n",
       " False,\n",
       " False,\n",
       " False,\n",
       " False,\n",
       " False,\n",
       " False,\n",
       " False,\n",
       " False,\n",
       " False,\n",
       " False,\n",
       " False,\n",
       " False,\n",
       " False,\n",
       " False,\n",
       " False,\n",
       " False,\n",
       " False,\n",
       " False,\n",
       " False,\n",
       " False,\n",
       " False,\n",
       " False,\n",
       " False,\n",
       " False,\n",
       " False,\n",
       " False,\n",
       " False,\n",
       " False,\n",
       " False,\n",
       " False,\n",
       " False,\n",
       " False,\n",
       " False,\n",
       " False,\n",
       " False,\n",
       " False,\n",
       " False,\n",
       " False,\n",
       " False,\n",
       " False,\n",
       " False,\n",
       " False,\n",
       " False,\n",
       " False,\n",
       " False,\n",
       " False,\n",
       " False,\n",
       " False,\n",
       " False,\n",
       " False,\n",
       " False,\n",
       " False,\n",
       " False,\n",
       " False,\n",
       " False]"
      ]
     },
     "execution_count": 55,
     "metadata": {},
     "output_type": "execute_result"
    }
   ],
   "source": [
    "[ x=='WisconsinDells' for x in  df['City']]"
   ]
  },
  {
   "cell_type": "code",
   "execution_count": 59,
   "metadata": {},
   "outputs": [
    {
     "data": {
      "text/html": [
       "<div>\n",
       "<style scoped>\n",
       "    .dataframe tbody tr th:only-of-type {\n",
       "        vertical-align: middle;\n",
       "    }\n",
       "\n",
       "    .dataframe tbody tr th {\n",
       "        vertical-align: top;\n",
       "    }\n",
       "\n",
       "    .dataframe thead th {\n",
       "        text-align: right;\n",
       "    }\n",
       "</style>\n",
       "<table border=\"1\" class=\"dataframe\">\n",
       "  <thead>\n",
       "    <tr style=\"text-align: right;\">\n",
       "      <th></th>\n",
       "      <th>LatD</th>\n",
       "      <th>City</th>\n",
       "    </tr>\n",
       "  </thead>\n",
       "  <tbody>\n",
       "    <tr>\n",
       "      <th>0</th>\n",
       "      <td>41</td>\n",
       "      <td>Youngstown</td>\n",
       "    </tr>\n",
       "    <tr>\n",
       "      <th>1</th>\n",
       "      <td>42</td>\n",
       "      <td>Yankton</td>\n",
       "    </tr>\n",
       "    <tr>\n",
       "      <th>2</th>\n",
       "      <td>46</td>\n",
       "      <td>Yakima</td>\n",
       "    </tr>\n",
       "    <tr>\n",
       "      <th>3</th>\n",
       "      <td>42</td>\n",
       "      <td>Worcester</td>\n",
       "    </tr>\n",
       "    <tr>\n",
       "      <th>4</th>\n",
       "      <td>43</td>\n",
       "      <td>WisconsinDells</td>\n",
       "    </tr>\n",
       "    <tr>\n",
       "      <th>5</th>\n",
       "      <td>36</td>\n",
       "      <td>Winston-Salem</td>\n",
       "    </tr>\n",
       "    <tr>\n",
       "      <th>6</th>\n",
       "      <td>49</td>\n",
       "      <td>Winnipeg</td>\n",
       "    </tr>\n",
       "    <tr>\n",
       "      <th>7</th>\n",
       "      <td>39</td>\n",
       "      <td>Winchester</td>\n",
       "    </tr>\n",
       "    <tr>\n",
       "      <th>8</th>\n",
       "      <td>34</td>\n",
       "      <td>Wilmington</td>\n",
       "    </tr>\n",
       "    <tr>\n",
       "      <th>9</th>\n",
       "      <td>39</td>\n",
       "      <td>Wilmington</td>\n",
       "    </tr>\n",
       "    <tr>\n",
       "      <th>10</th>\n",
       "      <td>48</td>\n",
       "      <td>Williston</td>\n",
       "    </tr>\n",
       "    <tr>\n",
       "      <th>11</th>\n",
       "      <td>41</td>\n",
       "      <td>Williamsport</td>\n",
       "    </tr>\n",
       "    <tr>\n",
       "      <th>12</th>\n",
       "      <td>37</td>\n",
       "      <td>Williamson</td>\n",
       "    </tr>\n",
       "    <tr>\n",
       "      <th>13</th>\n",
       "      <td>33</td>\n",
       "      <td>WichitaFalls</td>\n",
       "    </tr>\n",
       "    <tr>\n",
       "      <th>14</th>\n",
       "      <td>37</td>\n",
       "      <td>Wichita</td>\n",
       "    </tr>\n",
       "    <tr>\n",
       "      <th>15</th>\n",
       "      <td>40</td>\n",
       "      <td>Wheeling</td>\n",
       "    </tr>\n",
       "    <tr>\n",
       "      <th>16</th>\n",
       "      <td>26</td>\n",
       "      <td>WestPalmBeach</td>\n",
       "    </tr>\n",
       "    <tr>\n",
       "      <th>17</th>\n",
       "      <td>47</td>\n",
       "      <td>Wenatchee</td>\n",
       "    </tr>\n",
       "    <tr>\n",
       "      <th>18</th>\n",
       "      <td>41</td>\n",
       "      <td>Weed</td>\n",
       "    </tr>\n",
       "    <tr>\n",
       "      <th>19</th>\n",
       "      <td>31</td>\n",
       "      <td>Waycross</td>\n",
       "    </tr>\n",
       "    <tr>\n",
       "      <th>20</th>\n",
       "      <td>44</td>\n",
       "      <td>Wausau</td>\n",
       "    </tr>\n",
       "    <tr>\n",
       "      <th>21</th>\n",
       "      <td>42</td>\n",
       "      <td>Waukegan</td>\n",
       "    </tr>\n",
       "    <tr>\n",
       "      <th>22</th>\n",
       "      <td>44</td>\n",
       "      <td>Watertown</td>\n",
       "    </tr>\n",
       "    <tr>\n",
       "      <th>23</th>\n",
       "      <td>43</td>\n",
       "      <td>Watertown</td>\n",
       "    </tr>\n",
       "    <tr>\n",
       "      <th>24</th>\n",
       "      <td>42</td>\n",
       "      <td>Waterloo</td>\n",
       "    </tr>\n",
       "    <tr>\n",
       "      <th>25</th>\n",
       "      <td>41</td>\n",
       "      <td>Waterbury</td>\n",
       "    </tr>\n",
       "    <tr>\n",
       "      <th>26</th>\n",
       "      <td>38</td>\n",
       "      <td>Washington</td>\n",
       "    </tr>\n",
       "    <tr>\n",
       "      <th>27</th>\n",
       "      <td>41</td>\n",
       "      <td>Warren</td>\n",
       "    </tr>\n",
       "    <tr>\n",
       "      <th>28</th>\n",
       "      <td>46</td>\n",
       "      <td>WallaWalla</td>\n",
       "    </tr>\n",
       "    <tr>\n",
       "      <th>29</th>\n",
       "      <td>31</td>\n",
       "      <td>Waco</td>\n",
       "    </tr>\n",
       "    <tr>\n",
       "      <th>...</th>\n",
       "      <td>...</td>\n",
       "      <td>...</td>\n",
       "    </tr>\n",
       "    <tr>\n",
       "      <th>98</th>\n",
       "      <td>36</td>\n",
       "      <td>Salinas</td>\n",
       "    </tr>\n",
       "    <tr>\n",
       "      <th>99</th>\n",
       "      <td>38</td>\n",
       "      <td>Salina</td>\n",
       "    </tr>\n",
       "    <tr>\n",
       "      <th>100</th>\n",
       "      <td>38</td>\n",
       "      <td>Salida</td>\n",
       "    </tr>\n",
       "    <tr>\n",
       "      <th>101</th>\n",
       "      <td>44</td>\n",
       "      <td>Salem</td>\n",
       "    </tr>\n",
       "    <tr>\n",
       "      <th>102</th>\n",
       "      <td>44</td>\n",
       "      <td>SaintPaul</td>\n",
       "    </tr>\n",
       "    <tr>\n",
       "      <th>103</th>\n",
       "      <td>38</td>\n",
       "      <td>SaintLouis</td>\n",
       "    </tr>\n",
       "    <tr>\n",
       "      <th>104</th>\n",
       "      <td>39</td>\n",
       "      <td>SaintJoseph</td>\n",
       "    </tr>\n",
       "    <tr>\n",
       "      <th>105</th>\n",
       "      <td>42</td>\n",
       "      <td>SaintJoseph</td>\n",
       "    </tr>\n",
       "    <tr>\n",
       "      <th>106</th>\n",
       "      <td>44</td>\n",
       "      <td>SaintJohnsbury</td>\n",
       "    </tr>\n",
       "    <tr>\n",
       "      <th>107</th>\n",
       "      <td>45</td>\n",
       "      <td>SaintCloud</td>\n",
       "    </tr>\n",
       "    <tr>\n",
       "      <th>108</th>\n",
       "      <td>29</td>\n",
       "      <td>SaintAugustine</td>\n",
       "    </tr>\n",
       "    <tr>\n",
       "      <th>109</th>\n",
       "      <td>43</td>\n",
       "      <td>Saginaw</td>\n",
       "    </tr>\n",
       "    <tr>\n",
       "      <th>110</th>\n",
       "      <td>38</td>\n",
       "      <td>Sacramento</td>\n",
       "    </tr>\n",
       "    <tr>\n",
       "      <th>111</th>\n",
       "      <td>43</td>\n",
       "      <td>Rutland</td>\n",
       "    </tr>\n",
       "    <tr>\n",
       "      <th>112</th>\n",
       "      <td>33</td>\n",
       "      <td>Roswell</td>\n",
       "    </tr>\n",
       "    <tr>\n",
       "      <th>113</th>\n",
       "      <td>35</td>\n",
       "      <td>RockyMount</td>\n",
       "    </tr>\n",
       "    <tr>\n",
       "      <th>114</th>\n",
       "      <td>41</td>\n",
       "      <td>RockSprings</td>\n",
       "    </tr>\n",
       "    <tr>\n",
       "      <th>115</th>\n",
       "      <td>42</td>\n",
       "      <td>Rockford</td>\n",
       "    </tr>\n",
       "    <tr>\n",
       "      <th>116</th>\n",
       "      <td>43</td>\n",
       "      <td>Rochester</td>\n",
       "    </tr>\n",
       "    <tr>\n",
       "      <th>117</th>\n",
       "      <td>44</td>\n",
       "      <td>Rochester</td>\n",
       "    </tr>\n",
       "    <tr>\n",
       "      <th>118</th>\n",
       "      <td>37</td>\n",
       "      <td>Roanoke</td>\n",
       "    </tr>\n",
       "    <tr>\n",
       "      <th>119</th>\n",
       "      <td>37</td>\n",
       "      <td>Richmond</td>\n",
       "    </tr>\n",
       "    <tr>\n",
       "      <th>120</th>\n",
       "      <td>39</td>\n",
       "      <td>Richmond</td>\n",
       "    </tr>\n",
       "    <tr>\n",
       "      <th>121</th>\n",
       "      <td>38</td>\n",
       "      <td>Richfield</td>\n",
       "    </tr>\n",
       "    <tr>\n",
       "      <th>122</th>\n",
       "      <td>45</td>\n",
       "      <td>Rhinelander</td>\n",
       "    </tr>\n",
       "    <tr>\n",
       "      <th>123</th>\n",
       "      <td>39</td>\n",
       "      <td>Reno</td>\n",
       "    </tr>\n",
       "    <tr>\n",
       "      <th>124</th>\n",
       "      <td>50</td>\n",
       "      <td>Regina</td>\n",
       "    </tr>\n",
       "    <tr>\n",
       "      <th>125</th>\n",
       "      <td>40</td>\n",
       "      <td>RedBluff</td>\n",
       "    </tr>\n",
       "    <tr>\n",
       "      <th>126</th>\n",
       "      <td>40</td>\n",
       "      <td>Reading</td>\n",
       "    </tr>\n",
       "    <tr>\n",
       "      <th>127</th>\n",
       "      <td>41</td>\n",
       "      <td>Ravenna</td>\n",
       "    </tr>\n",
       "  </tbody>\n",
       "</table>\n",
       "<p>128 rows × 2 columns</p>\n",
       "</div>"
      ],
      "text/plain": [
       "    LatD            City\n",
       "0     41      Youngstown\n",
       "1     42         Yankton\n",
       "2     46          Yakima\n",
       "3     42       Worcester\n",
       "4     43  WisconsinDells\n",
       "5     36   Winston-Salem\n",
       "6     49        Winnipeg\n",
       "7     39      Winchester\n",
       "8     34      Wilmington\n",
       "9     39      Wilmington\n",
       "10    48       Williston\n",
       "11    41    Williamsport\n",
       "12    37      Williamson\n",
       "13    33    WichitaFalls\n",
       "14    37         Wichita\n",
       "15    40        Wheeling\n",
       "16    26   WestPalmBeach\n",
       "17    47       Wenatchee\n",
       "18    41            Weed\n",
       "19    31        Waycross\n",
       "20    44          Wausau\n",
       "21    42        Waukegan\n",
       "22    44       Watertown\n",
       "23    43       Watertown\n",
       "24    42        Waterloo\n",
       "25    41       Waterbury\n",
       "26    38      Washington\n",
       "27    41          Warren\n",
       "28    46      WallaWalla\n",
       "29    31            Waco\n",
       "..   ...             ...\n",
       "98    36         Salinas\n",
       "99    38          Salina\n",
       "100   38          Salida\n",
       "101   44           Salem\n",
       "102   44       SaintPaul\n",
       "103   38      SaintLouis\n",
       "104   39     SaintJoseph\n",
       "105   42     SaintJoseph\n",
       "106   44  SaintJohnsbury\n",
       "107   45      SaintCloud\n",
       "108   29  SaintAugustine\n",
       "109   43         Saginaw\n",
       "110   38      Sacramento\n",
       "111   43         Rutland\n",
       "112   33         Roswell\n",
       "113   35      RockyMount\n",
       "114   41     RockSprings\n",
       "115   42        Rockford\n",
       "116   43       Rochester\n",
       "117   44       Rochester\n",
       "118   37         Roanoke\n",
       "119   37        Richmond\n",
       "120   39        Richmond\n",
       "121   38       Richfield\n",
       "122   45     Rhinelander\n",
       "123   39            Reno\n",
       "124   50          Regina\n",
       "125   40        RedBluff\n",
       "126   40         Reading\n",
       "127   41         Ravenna\n",
       "\n",
       "[128 rows x 2 columns]"
      ]
     },
     "execution_count": 59,
     "metadata": {},
     "output_type": "execute_result"
    }
   ],
   "source": [
    "df[['LatD','City']]"
   ]
  },
  {
   "cell_type": "code",
   "execution_count": 60,
   "metadata": {},
   "outputs": [
    {
     "name": "stdout",
     "output_type": "stream",
     "text": [
      "Help on package pandas:\n",
      "\n",
      "NAME\n",
      "    pandas\n",
      "\n",
      "DESCRIPTION\n",
      "    pandas - a powerful data analysis and manipulation library for Python\n",
      "    =====================================================================\n",
      "    \n",
      "    **pandas** is a Python package providing fast, flexible, and expressive data\n",
      "    structures designed to make working with \"relational\" or \"labeled\" data both\n",
      "    easy and intuitive. It aims to be the fundamental high-level building block for\n",
      "    doing practical, **real world** data analysis in Python. Additionally, it has\n",
      "    the broader goal of becoming **the most powerful and flexible open source data\n",
      "    analysis / manipulation tool available in any language**. It is already well on\n",
      "    its way toward this goal.\n",
      "    \n",
      "    Main Features\n",
      "    -------------\n",
      "    Here are just a few of the things that pandas does well:\n",
      "    \n",
      "      - Easy handling of missing data in floating point as well as non-floating\n",
      "        point data.\n",
      "      - Size mutability: columns can be inserted and deleted from DataFrame and\n",
      "        higher dimensional objects\n",
      "      - Automatic and explicit data alignment: objects can be explicitly aligned\n",
      "        to a set of labels, or the user can simply ignore the labels and let\n",
      "        `Series`, `DataFrame`, etc. automatically align the data for you in\n",
      "        computations.\n",
      "      - Powerful, flexible group by functionality to perform split-apply-combine\n",
      "        operations on data sets, for both aggregating and transforming data.\n",
      "      - Make it easy to convert ragged, differently-indexed data in other Python\n",
      "        and NumPy data structures into DataFrame objects.\n",
      "      - Intelligent label-based slicing, fancy indexing, and subsetting of large\n",
      "        data sets.\n",
      "      - Intuitive merging and joining data sets.\n",
      "      - Flexible reshaping and pivoting of data sets.\n",
      "      - Hierarchical labeling of axes (possible to have multiple labels per tick).\n",
      "      - Robust IO tools for loading data from flat files (CSV and delimited),\n",
      "        Excel files, databases, and saving/loading data from the ultrafast HDF5\n",
      "        format.\n",
      "      - Time series-specific functionality: date range generation and frequency\n",
      "        conversion, moving window statistics, moving window linear regressions,\n",
      "        date shifting and lagging, etc.\n",
      "\n",
      "PACKAGE CONTENTS\n",
      "    _libs (package)\n",
      "    _version\n",
      "    api (package)\n",
      "    compat (package)\n",
      "    computation (package)\n",
      "    conftest\n",
      "    core (package)\n",
      "    errors (package)\n",
      "    formats (package)\n",
      "    io (package)\n",
      "    json\n",
      "    lib\n",
      "    parser\n",
      "    plotting (package)\n",
      "    testing\n",
      "    tests (package)\n",
      "    tools (package)\n",
      "    tseries (package)\n",
      "    tslib\n",
      "    types (package)\n",
      "    util (package)\n",
      "\n",
      "SUBMODULES\n",
      "    _hashtable\n",
      "    _lib\n",
      "    _tslib\n",
      "    offsets\n",
      "\n",
      "DATA\n",
      "    IndexSlice = <pandas.core.indexing._IndexSlice object>\n",
      "    NaT = NaT\n",
      "    __docformat__ = 'restructuredtext'\n",
      "    datetools = <module 'pandas.core.datetools' from 'C:\\\\Progra...\\lib\\\\s...\n",
      "    describe_option = <pandas.core.config.CallableDynamicDoc object>\n",
      "    get_option = <pandas.core.config.CallableDynamicDoc object>\n",
      "    json = <module 'pandas.json' from 'C:\\\\ProgramData\\\\Anaconda3\\\\lib\\\\si...\n",
      "    lib = <module 'pandas.lib' from 'C:\\\\ProgramData\\\\Anaconda3\\\\lib\\\\site...\n",
      "    options = <pandas.core.config.DictWrapper object>\n",
      "    parser = <module 'pandas.parser' from 'C:\\\\ProgramData\\\\Anaconda3\\\\lib...\n",
      "    plot_params = {'xaxis.compat': False}\n",
      "    reset_option = <pandas.core.config.CallableDynamicDoc object>\n",
      "    set_option = <pandas.core.config.CallableDynamicDoc object>\n",
      "    tslib = <module 'pandas.tslib' from 'C:\\\\ProgramData\\\\Anaconda3\\\\lib\\\\...\n",
      "\n",
      "VERSION\n",
      "    0.23.0\n",
      "\n",
      "FILE\n",
      "    c:\\programdata\\anaconda3\\lib\\site-packages\\pandas\\__init__.py\n",
      "\n",
      "\n"
     ]
    }
   ],
   "source": [
    "help('pandas')"
   ]
  },
  {
   "cell_type": "markdown",
   "metadata": {},
   "source": [
    "#### inplace=True "
   ]
  },
  {
   "cell_type": "code",
   "execution_count": 75,
   "metadata": {},
   "outputs": [
    {
     "data": {
      "text/plain": [
       "pandas.core.indexing._LocIndexer"
      ]
     },
     "execution_count": 75,
     "metadata": {},
     "output_type": "execute_result"
    }
   ],
   "source": [
    "type(df.loc)"
   ]
  },
  {
   "cell_type": "code",
   "execution_count": 1,
   "metadata": {},
   "outputs": [],
   "source": [
    "import pandas as pd,numpy as np"
   ]
  },
  {
   "cell_type": "code",
   "execution_count": 9,
   "metadata": {},
   "outputs": [],
   "source": [
    "df=pd.DataFrame([1,2,3],columns=['x'],index=['a','b','c'])"
   ]
  },
  {
   "cell_type": "code",
   "execution_count": 12,
   "metadata": {},
   "outputs": [
    {
     "data": {
      "text/html": [
       "<div>\n",
       "<style scoped>\n",
       "    .dataframe tbody tr th:only-of-type {\n",
       "        vertical-align: middle;\n",
       "    }\n",
       "\n",
       "    .dataframe tbody tr th {\n",
       "        vertical-align: top;\n",
       "    }\n",
       "\n",
       "    .dataframe thead th {\n",
       "        text-align: right;\n",
       "    }\n",
       "</style>\n",
       "<table border=\"1\" class=\"dataframe\">\n",
       "  <thead>\n",
       "    <tr style=\"text-align: right;\">\n",
       "      <th></th>\n",
       "      <th>x</th>\n",
       "    </tr>\n",
       "  </thead>\n",
       "  <tbody>\n",
       "    <tr>\n",
       "      <th>c</th>\n",
       "      <td>3</td>\n",
       "    </tr>\n",
       "  </tbody>\n",
       "</table>\n",
       "</div>"
      ],
      "text/plain": [
       "   x\n",
       "c  3"
      ]
     },
     "execution_count": 12,
     "metadata": {},
     "output_type": "execute_result"
    }
   ],
   "source": [
    "df[df['x']>2]"
   ]
  },
  {
   "cell_type": "code",
   "execution_count": null,
   "metadata": {},
   "outputs": [],
   "source": []
  },
  {
   "cell_type": "code",
   "execution_count": null,
   "metadata": {},
   "outputs": [],
   "source": []
  },
  {
   "cell_type": "code",
   "execution_count": 19,
   "metadata": {},
   "outputs": [],
   "source": [
    "S='1 2 3 4 5 6 7'.split()"
   ]
  },
  {
   "cell_type": "code",
   "execution_count": 20,
   "metadata": {},
   "outputs": [],
   "source": [
    "S.sort()"
   ]
  },
  {
   "cell_type": "code",
   "execution_count": 21,
   "metadata": {},
   "outputs": [
    {
     "data": {
      "text/plain": [
       "['1', '2', '3', '4', '5', '6', '7']"
      ]
     },
     "execution_count": 21,
     "metadata": {},
     "output_type": "execute_result"
    }
   ],
   "source": [
    "S"
   ]
  },
  {
   "cell_type": "code",
   "execution_count": 22,
   "metadata": {},
   "outputs": [],
   "source": [
    "S.reverse()"
   ]
  },
  {
   "cell_type": "code",
   "execution_count": 23,
   "metadata": {},
   "outputs": [
    {
     "data": {
      "text/plain": [
       "['7', '6', '5', '4', '3', '2', '1']"
      ]
     },
     "execution_count": 23,
     "metadata": {},
     "output_type": "execute_result"
    }
   ],
   "source": [
    "S"
   ]
  },
  {
   "cell_type": "code",
   "execution_count": 24,
   "metadata": {},
   "outputs": [],
   "source": [
    "def Sorting(InValue):\n",
    "    for i in range(len(InValue)-1,0,-1):\n",
    "        for j in range(i):\n",
    "            if InValue[j] > InValue[j+1]:\n",
    "                InValue[j],temp=InValue[j+1],InValue[j]\n",
    "                InValue[j+1]=temp\n",
    "    return InValue "
   ]
  },
  {
   "cell_type": "code",
   "execution_count": 25,
   "metadata": {},
   "outputs": [
    {
     "data": {
      "text/plain": [
       "['1', '2', '3', '4', '5', '6', '7']"
      ]
     },
     "execution_count": 25,
     "metadata": {},
     "output_type": "execute_result"
    }
   ],
   "source": [
    "Sorting(S)"
   ]
  },
  {
   "cell_type": "code",
   "execution_count": 29,
   "metadata": {},
   "outputs": [
    {
     "data": {
      "text/plain": [
       "[6, 5, 4, 3, 2, 1]"
      ]
     },
     "execution_count": 29,
     "metadata": {},
     "output_type": "execute_result"
    }
   ],
   "source": [
    "[ x for x in range(len(S)-1,0,-1) ]"
   ]
  },
  {
   "cell_type": "code",
   "execution_count": 31,
   "metadata": {},
   "outputs": [
    {
     "data": {
      "text/plain": [
       "[0, 1, 2, 3, 4]"
      ]
     },
     "execution_count": 31,
     "metadata": {},
     "output_type": "execute_result"
    }
   ],
   "source": [
    "[x for x in range(0,5)]"
   ]
  },
  {
   "cell_type": "code",
   "execution_count": 32,
   "metadata": {},
   "outputs": [
    {
     "data": {
      "text/plain": [
       "['1', '2', '3', '4', '5', '6', '7']"
      ]
     },
     "execution_count": 32,
     "metadata": {},
     "output_type": "execute_result"
    }
   ],
   "source": [
    "S"
   ]
  },
  {
   "cell_type": "code",
   "execution_count": 37,
   "metadata": {},
   "outputs": [],
   "source": [
    "T=tuple(S)"
   ]
  },
  {
   "cell_type": "code",
   "execution_count": 38,
   "metadata": {},
   "outputs": [],
   "source": [
    "TT=(1,2,3,4)"
   ]
  },
  {
   "cell_type": "code",
   "execution_count": 39,
   "metadata": {},
   "outputs": [
    {
     "data": {
      "text/plain": [
       "(1, 2, 3, 4)"
      ]
     },
     "execution_count": 39,
     "metadata": {},
     "output_type": "execute_result"
    }
   ],
   "source": [
    "TT"
   ]
  },
  {
   "cell_type": "code",
   "execution_count": 41,
   "metadata": {},
   "outputs": [],
   "source": [
    "Dict={'x':'X'}"
   ]
  },
  {
   "cell_type": "code",
   "execution_count": 46,
   "metadata": {},
   "outputs": [
    {
     "name": "stdout",
     "output_type": "stream",
     "text": [
      "x\n"
     ]
    }
   ],
   "source": [
    "for i in Dict.items():\n",
    "    print(i[0])"
   ]
  },
  {
   "cell_type": "code",
   "execution_count": 43,
   "metadata": {},
   "outputs": [
    {
     "data": {
      "text/plain": [
       "'X'"
      ]
     },
     "execution_count": 43,
     "metadata": {},
     "output_type": "execute_result"
    }
   ],
   "source": [
    "Dict['x']"
   ]
  },
  {
   "cell_type": "code",
   "execution_count": 47,
   "metadata": {},
   "outputs": [],
   "source": [
    "D={'name':'ashok','blood':'b+ve'}"
   ]
  },
  {
   "cell_type": "code",
   "execution_count": 48,
   "metadata": {},
   "outputs": [
    {
     "data": {
      "text/plain": [
       "{'name': 'ashok', 'blood': 'b+ve'}"
      ]
     },
     "execution_count": 48,
     "metadata": {},
     "output_type": "execute_result"
    }
   ],
   "source": [
    "D"
   ]
  },
  {
   "cell_type": "code",
   "execution_count": 49,
   "metadata": {},
   "outputs": [],
   "source": [
    "D['age']=28"
   ]
  },
  {
   "cell_type": "code",
   "execution_count": 50,
   "metadata": {},
   "outputs": [
    {
     "data": {
      "text/plain": [
       "{'name': 'ashok', 'blood': 'b+ve', 'age': 28}"
      ]
     },
     "execution_count": 50,
     "metadata": {},
     "output_type": "execute_result"
    }
   ],
   "source": [
    "D"
   ]
  },
  {
   "cell_type": "code",
   "execution_count": 52,
   "metadata": {},
   "outputs": [
    {
     "name": "stdout",
     "output_type": "stream",
     "text": [
      "key --> name value--> ashok\n",
      "key --> blood value--> b+ve\n",
      "key --> age value--> 28\n"
     ]
    }
   ],
   "source": [
    "for i,j in D.items():\n",
    "    print(\"key --> %s value--> %s\" %(i,j)) "
   ]
  },
  {
   "cell_type": "code",
   "execution_count": 54,
   "metadata": {},
   "outputs": [
    {
     "data": {
      "text/plain": [
       "dict_items([('name', 'ashok'), ('blood', 'b+ve'), ('age', 28)])"
      ]
     },
     "execution_count": 54,
     "metadata": {},
     "output_type": "execute_result"
    }
   ],
   "source": [
    "D.items()"
   ]
  },
  {
   "cell_type": "code",
   "execution_count": 55,
   "metadata": {},
   "outputs": [
    {
     "data": {
      "text/plain": [
       "dict_keys(['name', 'blood', 'age'])"
      ]
     },
     "execution_count": 55,
     "metadata": {},
     "output_type": "execute_result"
    }
   ],
   "source": [
    "D.keys()"
   ]
  },
  {
   "cell_type": "code",
   "execution_count": 56,
   "metadata": {},
   "outputs": [
    {
     "data": {
      "text/plain": [
       "dict_values(['ashok', 'b+ve', 28])"
      ]
     },
     "execution_count": 56,
     "metadata": {},
     "output_type": "execute_result"
    }
   ],
   "source": [
    "D.values()"
   ]
  },
  {
   "cell_type": "code",
   "execution_count": 61,
   "metadata": {},
   "outputs": [
    {
     "data": {
      "text/html": [
       "<div>\n",
       "<style scoped>\n",
       "    .dataframe tbody tr th:only-of-type {\n",
       "        vertical-align: middle;\n",
       "    }\n",
       "\n",
       "    .dataframe tbody tr th {\n",
       "        vertical-align: top;\n",
       "    }\n",
       "\n",
       "    .dataframe thead th {\n",
       "        text-align: right;\n",
       "    }\n",
       "</style>\n",
       "<table border=\"1\" class=\"dataframe\">\n",
       "  <thead>\n",
       "    <tr style=\"text-align: right;\">\n",
       "      <th></th>\n",
       "      <th>x</th>\n",
       "    </tr>\n",
       "  </thead>\n",
       "  <tbody>\n",
       "    <tr>\n",
       "      <th>a</th>\n",
       "      <td>1</td>\n",
       "    </tr>\n",
       "    <tr>\n",
       "      <th>b</th>\n",
       "      <td>2</td>\n",
       "    </tr>\n",
       "    <tr>\n",
       "      <th>c</th>\n",
       "      <td>3</td>\n",
       "    </tr>\n",
       "  </tbody>\n",
       "</table>\n",
       "</div>"
      ],
      "text/plain": [
       "   x\n",
       "a  1\n",
       "b  2\n",
       "c  3"
      ]
     },
     "execution_count": 61,
     "metadata": {},
     "output_type": "execute_result"
    }
   ],
   "source": [
    "df.fillna(value=df['x'])"
   ]
  },
  {
   "cell_type": "code",
   "execution_count": 77,
   "metadata": {},
   "outputs": [
    {
     "name": "stdout",
     "output_type": "stream",
     "text": [
      "List : 0.0 & Numpy : 2.980709075927734e-08\n"
     ]
    }
   ],
   "source": [
    "import time,numpy as np\n",
    "Time=time.time()\n",
    "L=range(1000000)\n",
    "ActualTime=((time.time() - Time)/100000)\n",
    "Time=time.time()\n",
    "S=np.arange(1000000)\n",
    "NumpyTime=((time.time() - Time)/100000)\n",
    "\n",
    "print(\"List : %s & Numpy : %s\" %(ActualTime,NumpyTime))"
   ]
  },
  {
   "cell_type": "code",
   "execution_count": 72,
   "metadata": {},
   "outputs": [
    {
     "data": {
      "text/plain": [
       "39.97087478637695"
      ]
     },
     "execution_count": 72,
     "metadata": {},
     "output_type": "execute_result"
    }
   ],
   "source": [
    "ActualTime=''\n",
    "import numpy as np\n",
    "Time=time.time()\n",
    "L=np.arange(1000000)\n",
    "ActualTime=((time.time() - Time)*10000)\n",
    "ActualTime"
   ]
  },
  {
   "cell_type": "code",
   "execution_count": 70,
   "metadata": {},
   "outputs": [
    {
     "data": {
      "text/plain": [
       "29.976367950439453"
      ]
     },
     "execution_count": 70,
     "metadata": {},
     "output_type": "execute_result"
    }
   ],
   "source": [
    "ActualTime"
   ]
  },
  {
   "cell_type": "code",
   "execution_count": null,
   "metadata": {},
   "outputs": [],
   "source": []
  }
 ],
 "metadata": {
  "kernelspec": {
   "display_name": "Python 3",
   "language": "python",
   "name": "python3"
  },
  "language_info": {
   "codemirror_mode": {
    "name": "ipython",
    "version": 3
   },
   "file_extension": ".py",
   "mimetype": "text/x-python",
   "name": "python",
   "nbconvert_exporter": "python",
   "pygments_lexer": "ipython3",
   "version": "3.6.5"
  }
 },
 "nbformat": 4,
 "nbformat_minor": 2
}
